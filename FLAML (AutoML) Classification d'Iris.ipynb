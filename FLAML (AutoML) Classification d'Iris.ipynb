{
  "nbformat": 4,
  "nbformat_minor": 0,
  "metadata": {
    "colab": {
      "provenance": [],
      "authorship_tag": "ABX9TyPd96HBMBOP5++OJeHzl2uq"
    },
    "kernelspec": {
      "name": "python3",
      "display_name": "Python 3"
    },
    "language_info": {
      "name": "python"
    }
  },
  "cells": [
    {
      "cell_type": "markdown",
      "source": [
        "# **1. Pré-requis : Installation**"
      ],
      "metadata": {
        "id": "J6Z13iX8Z3Vq"
      }
    },
    {
      "cell_type": "code",
      "source": [
        "!pip install flaml"
      ],
      "metadata": {
        "colab": {
          "base_uri": "https://localhost:8080/"
        },
        "id": "WrtV1YSkY93v",
        "outputId": "6c605704-a4c1-4889-a073-78e047444dfd"
      },
      "execution_count": null,
      "outputs": [
        {
          "output_type": "stream",
          "name": "stdout",
          "text": [
            "Looking in indexes: https://pypi.org/simple, https://us-python.pkg.dev/colab-wheels/public/simple/\n",
            "Collecting flaml\n",
            "  Downloading FLAML-1.1.2-py3-none-any.whl (222 kB)\n",
            "\u001b[2K     \u001b[90m━━━━━━━━━━━━━━━━━━━━━━━━━━━━━━━━━━━━━━━\u001b[0m \u001b[32m222.3/222.3 KB\u001b[0m \u001b[31m4.0 MB/s\u001b[0m eta \u001b[36m0:00:00\u001b[0m\n",
            "\u001b[?25hRequirement already satisfied: NumPy>=1.17.0rc1 in /usr/local/lib/python3.8/dist-packages (from flaml) (1.21.6)\n",
            "Requirement already satisfied: scikit-learn>=0.24 in /usr/local/lib/python3.8/dist-packages (from flaml) (1.0.2)\n",
            "Requirement already satisfied: xgboost>=0.90 in /usr/local/lib/python3.8/dist-packages (from flaml) (0.90)\n",
            "Requirement already satisfied: pandas>=1.1.4 in /usr/local/lib/python3.8/dist-packages (from flaml) (1.3.5)\n",
            "Collecting lightgbm>=2.3.1\n",
            "  Downloading lightgbm-3.3.5-py3-none-manylinux1_x86_64.whl (2.0 MB)\n",
            "\u001b[2K     \u001b[90m━━━━━━━━━━━━━━━━━━━━━━━━━━━━━━━━━━━━━━━━\u001b[0m \u001b[32m2.0/2.0 MB\u001b[0m \u001b[31m34.1 MB/s\u001b[0m eta \u001b[36m0:00:00\u001b[0m\n",
            "\u001b[?25hRequirement already satisfied: scipy>=1.4.1 in /usr/local/lib/python3.8/dist-packages (from flaml) (1.7.3)\n",
            "Requirement already satisfied: wheel in /usr/local/lib/python3.8/dist-packages (from lightgbm>=2.3.1->flaml) (0.38.4)\n",
            "Requirement already satisfied: python-dateutil>=2.7.3 in /usr/local/lib/python3.8/dist-packages (from pandas>=1.1.4->flaml) (2.8.2)\n",
            "Requirement already satisfied: pytz>=2017.3 in /usr/local/lib/python3.8/dist-packages (from pandas>=1.1.4->flaml) (2022.7.1)\n",
            "Requirement already satisfied: threadpoolctl>=2.0.0 in /usr/local/lib/python3.8/dist-packages (from scikit-learn>=0.24->flaml) (3.1.0)\n",
            "Requirement already satisfied: joblib>=0.11 in /usr/local/lib/python3.8/dist-packages (from scikit-learn>=0.24->flaml) (1.2.0)\n",
            "Requirement already satisfied: six>=1.5 in /usr/local/lib/python3.8/dist-packages (from python-dateutil>=2.7.3->pandas>=1.1.4->flaml) (1.15.0)\n",
            "Installing collected packages: lightgbm, flaml\n",
            "  Attempting uninstall: lightgbm\n",
            "    Found existing installation: lightgbm 2.2.3\n",
            "    Uninstalling lightgbm-2.2.3:\n",
            "      Successfully uninstalled lightgbm-2.2.3\n",
            "Successfully installed flaml-1.1.2 lightgbm-3.3.5\n"
          ]
        }
      ]
    },
    {
      "cell_type": "markdown",
      "source": [
        "# **2. Import et Initialisation de l'AutoML**"
      ],
      "metadata": {
        "id": "GwG0znsyaC1U"
      }
    },
    {
      "cell_type": "code",
      "execution_count": null,
      "metadata": {
        "id": "rSc9gcJbY2SL"
      },
      "outputs": [],
      "source": [
        "from flaml import AutoML\n",
        "\n",
        "from sklearn.datasets import load_iris\n",
        "\n",
        "# Initialisation d'une instance autoML\n",
        "automl = AutoML()"
      ]
    },
    {
      "cell_type": "markdown",
      "source": [
        "\n",
        "Ici, on importe notre jeu de donnée via la librairie sklearn.datasets, prenons l'exemple d'un problème de classification avec le dataset iris.\n",
        "\n",
        "Les données d'entrainement peuvent être une array numpy ou un dataframe pandas.\n",
        "\n",
        "Les données d'iris contiennent 3 types de fleurs, et ont des features spécifiques comme la longueur et la largeur des pétales/sépales."
      ],
      "metadata": {
        "id": "m5TG16e-af1l"
      }
    },
    {
      "cell_type": "markdown",
      "source": [
        "# **3. Spécification des paramètres de l'AutoML**"
      ],
      "metadata": {
        "id": "usU2QiaYavYH"
      }
    },
    {
      "cell_type": "markdown",
      "source": [
        "Nous avons ici plusieurs paramètres de l'AutoML : \n",
        "\n",
        "Si nous spécifions aucun des paramètres, il prendra les paramètres par défaut, et prendra plus de temps pour rechercher le meilleur modèle et les hyperparamètres du modèle.\n",
        "<br><br>\n",
        "Le paramètre \"**task**\" permet de spécifier le problème de machine learning.\n",
        "Il peut être regression, ts_forecast, summarization... Ici, il s'agit d'un probleme de classification.\n",
        "<br><br>\n",
        "Ensuite, le paramètre \"**time_budget**\" est optionnel, c'est un paramètre pour limiter le temps la recherche du modèle de et de ses hyperparamètres.  L'unité en seconde et pour l'exemple, nous avons spécifié 20 secondes.\n",
        "\n",
        "Il existe un autre paramètre qui est \"**max_iter**\", pour limiter le maximum de modèles à essayer dans le processus d'AutoML.\n",
        "<br><br>\n",
        "La métrique d'optimisation est spécifiée via le paramètre \"**metric**\". Il peut être soit une metrique existante, soit une fonction définie par l'utilisateur. On y trouve, log_loss pour la classification multi-class, roc_auc pour la classification binaire, mse pour l'erreur quadratique moyenne... Ici, nous avons utilisé la metrique : Accuracy.\n",
        "<br><br>\n",
        "Les essais sont loggués dans un fichier via le paramètre \"**log_file_name**\": iris.log, sous la forme d'un fichier JSON.\n"
      ],
      "metadata": {
        "id": "Wq2eICNCbVCp"
      }
    },
    {
      "cell_type": "code",
      "source": [
        "# Paramètre de l'autoML\n",
        "automl_settings = {\n",
        "    \"task\": 'classification',\n",
        "    \"time_budget\": 20,\n",
        "    \"metric\": 'accuracy',\n",
        "    \"log_file_name\": \"iris.log\",\n",
        "}"
      ],
      "metadata": {
        "id": "nBKKRGNqaXaK"
      },
      "execution_count": null,
      "outputs": []
    },
    {
      "cell_type": "markdown",
      "source": [
        "# **4. Entrainement de l'autoML**"
      ],
      "metadata": {
        "id": "hJdx_rIcf1N8"
      }
    },
    {
      "cell_type": "markdown",
      "source": [
        "Ici, le jeu de donnée est considéré comme un array numpy, on spécifie dans la fonction \"**fit**\" : les données d'entrainements X et y et les paramètres de notre AutoML.\n",
        "\n",
        "Affichons le meilleur des modèles : "
      ],
      "metadata": {
        "id": "xP5FvgF6g7S2"
      }
    },
    {
      "cell_type": "code",
      "source": [
        "X_train, y_train = load_iris(return_X_y=True)\n",
        "automl.fit(X_train=X_train, y_train=y_train,\n",
        "           **automl_settings)"
      ],
      "metadata": {
        "colab": {
          "base_uri": "https://localhost:8080/"
        },
        "id": "ulCkCnllfumr",
        "outputId": "f5a31c23-5e0e-406b-9ffe-3342d4254fcc"
      },
      "execution_count": null,
      "outputs": [
        {
          "output_type": "stream",
          "name": "stdout",
          "text": [
            "[flaml.automl.automl: 02-07 16:15:36] {2716} INFO - task = classification\n",
            "[flaml.automl.automl: 02-07 16:15:36] {2718} INFO - Data split method: stratified\n",
            "[flaml.automl.automl: 02-07 16:15:36] {2721} INFO - Evaluation method: cv\n",
            "[flaml.automl.automl: 02-07 16:15:36] {2848} INFO - Minimizing error metric: 1-accuracy\n",
            "[flaml.automl.automl: 02-07 16:15:36] {2994} INFO - List of ML learners in AutoML Run: ['lgbm', 'rf', 'xgboost', 'extra_tree', 'xgb_limitdepth', 'lrl1']\n",
            "[flaml.automl.automl: 02-07 16:15:36] {3323} INFO - iteration 0, current learner lgbm\n",
            "[flaml.automl.automl: 02-07 16:15:36] {3461} INFO - Estimated sufficient time budget=497s. Estimated necessary time budget=11s.\n",
            "[flaml.automl.automl: 02-07 16:15:36] {3508} INFO -  at 0.1s,\testimator lgbm's best error=0.0733,\tbest estimator lgbm's best error=0.0733\n",
            "[flaml.automl.automl: 02-07 16:15:36] {3323} INFO - iteration 1, current learner lgbm\n",
            "[flaml.automl.automl: 02-07 16:15:36] {3508} INFO -  at 0.1s,\testimator lgbm's best error=0.0733,\tbest estimator lgbm's best error=0.0733\n",
            "[flaml.automl.automl: 02-07 16:15:36] {3323} INFO - iteration 2, current learner lgbm\n",
            "[flaml.automl.automl: 02-07 16:15:36] {3508} INFO -  at 0.2s,\testimator lgbm's best error=0.0533,\tbest estimator lgbm's best error=0.0533\n",
            "[flaml.automl.automl: 02-07 16:15:36] {3323} INFO - iteration 3, current learner lgbm\n",
            "[flaml.automl.automl: 02-07 16:15:36] {3508} INFO -  at 0.2s,\testimator lgbm's best error=0.0533,\tbest estimator lgbm's best error=0.0533\n",
            "[flaml.automl.automl: 02-07 16:15:36] {3323} INFO - iteration 4, current learner lgbm\n",
            "[flaml.automl.automl: 02-07 16:15:36] {3508} INFO -  at 0.2s,\testimator lgbm's best error=0.0533,\tbest estimator lgbm's best error=0.0533\n",
            "[flaml.automl.automl: 02-07 16:15:36] {3323} INFO - iteration 5, current learner lgbm\n",
            "[flaml.automl.automl: 02-07 16:15:36] {3508} INFO -  at 0.3s,\testimator lgbm's best error=0.0467,\tbest estimator lgbm's best error=0.0467\n",
            "[flaml.automl.automl: 02-07 16:15:36] {3323} INFO - iteration 6, current learner xgboost\n",
            "[flaml.automl.automl: 02-07 16:15:36] {3508} INFO -  at 0.3s,\testimator xgboost's best error=0.0600,\tbest estimator lgbm's best error=0.0467\n",
            "[flaml.automl.automl: 02-07 16:15:36] {3323} INFO - iteration 7, current learner lgbm\n",
            "[flaml.automl.automl: 02-07 16:15:36] {3508} INFO -  at 0.4s,\testimator lgbm's best error=0.0467,\tbest estimator lgbm's best error=0.0467\n",
            "[flaml.automl.automl: 02-07 16:15:36] {3323} INFO - iteration 8, current learner lgbm\n",
            "[flaml.automl.automl: 02-07 16:15:36] {3508} INFO -  at 0.4s,\testimator lgbm's best error=0.0400,\tbest estimator lgbm's best error=0.0400\n",
            "[flaml.automl.automl: 02-07 16:15:36] {3323} INFO - iteration 9, current learner lgbm\n",
            "[flaml.automl.automl: 02-07 16:15:36] {3508} INFO -  at 0.4s,\testimator lgbm's best error=0.0400,\tbest estimator lgbm's best error=0.0400\n",
            "[flaml.automl.automl: 02-07 16:15:36] {3323} INFO - iteration 10, current learner xgboost\n",
            "[flaml.automl.automl: 02-07 16:15:36] {3508} INFO -  at 0.5s,\testimator xgboost's best error=0.0600,\tbest estimator lgbm's best error=0.0400\n",
            "[flaml.automl.automl: 02-07 16:15:36] {3323} INFO - iteration 11, current learner xgboost\n",
            "[flaml.automl.automl: 02-07 16:15:36] {3508} INFO -  at 0.5s,\testimator xgboost's best error=0.0600,\tbest estimator lgbm's best error=0.0400\n",
            "[flaml.automl.automl: 02-07 16:15:36] {3323} INFO - iteration 12, current learner lgbm\n",
            "[flaml.automl.automl: 02-07 16:15:36] {3508} INFO -  at 0.6s,\testimator lgbm's best error=0.0400,\tbest estimator lgbm's best error=0.0400\n",
            "[flaml.automl.automl: 02-07 16:15:36] {3323} INFO - iteration 13, current learner xgboost\n",
            "[flaml.automl.automl: 02-07 16:15:37] {3508} INFO -  at 0.6s,\testimator xgboost's best error=0.0600,\tbest estimator lgbm's best error=0.0400\n",
            "[flaml.automl.automl: 02-07 16:15:37] {3323} INFO - iteration 14, current learner lgbm\n",
            "[flaml.automl.automl: 02-07 16:15:37] {3508} INFO -  at 0.6s,\testimator lgbm's best error=0.0400,\tbest estimator lgbm's best error=0.0400\n",
            "[flaml.automl.automl: 02-07 16:15:37] {3323} INFO - iteration 15, current learner xgboost\n",
            "[flaml.automl.automl: 02-07 16:15:37] {3508} INFO -  at 0.7s,\testimator xgboost's best error=0.0600,\tbest estimator lgbm's best error=0.0400\n",
            "[flaml.automl.automl: 02-07 16:15:37] {3323} INFO - iteration 16, current learner lgbm\n",
            "[flaml.automl.automl: 02-07 16:15:37] {3508} INFO -  at 0.7s,\testimator lgbm's best error=0.0400,\tbest estimator lgbm's best error=0.0400\n",
            "[flaml.automl.automl: 02-07 16:15:37] {3323} INFO - iteration 17, current learner extra_tree\n",
            "[flaml.automl.automl: 02-07 16:15:37] {3508} INFO -  at 0.8s,\testimator extra_tree's best error=0.1533,\tbest estimator lgbm's best error=0.0400\n",
            "[flaml.automl.automl: 02-07 16:15:37] {3323} INFO - iteration 18, current learner rf\n",
            "[flaml.automl.automl: 02-07 16:15:37] {3508} INFO -  at 0.9s,\testimator rf's best error=0.0867,\tbest estimator lgbm's best error=0.0400\n",
            "[flaml.automl.automl: 02-07 16:15:37] {3323} INFO - iteration 19, current learner xgboost\n",
            "[flaml.automl.automl: 02-07 16:15:37] {3508} INFO -  at 0.9s,\testimator xgboost's best error=0.0600,\tbest estimator lgbm's best error=0.0400\n",
            "[flaml.automl.automl: 02-07 16:15:37] {3323} INFO - iteration 20, current learner rf\n",
            "[flaml.automl.automl: 02-07 16:15:37] {3508} INFO -  at 1.0s,\testimator rf's best error=0.0733,\tbest estimator lgbm's best error=0.0400\n",
            "[flaml.automl.automl: 02-07 16:15:37] {3323} INFO - iteration 21, current learner xgboost\n",
            "[flaml.automl.automl: 02-07 16:15:37] {3508} INFO -  at 1.1s,\testimator xgboost's best error=0.0600,\tbest estimator lgbm's best error=0.0400\n",
            "[flaml.automl.automl: 02-07 16:15:37] {3323} INFO - iteration 22, current learner lgbm\n",
            "[flaml.automl.automl: 02-07 16:15:37] {3508} INFO -  at 1.1s,\testimator lgbm's best error=0.0400,\tbest estimator lgbm's best error=0.0400\n",
            "[flaml.automl.automl: 02-07 16:15:37] {3323} INFO - iteration 23, current learner lgbm\n",
            "[flaml.automl.automl: 02-07 16:15:37] {3508} INFO -  at 1.2s,\testimator lgbm's best error=0.0400,\tbest estimator lgbm's best error=0.0400\n",
            "[flaml.automl.automl: 02-07 16:15:37] {3323} INFO - iteration 24, current learner extra_tree\n",
            "[flaml.automl.automl: 02-07 16:15:37] {3508} INFO -  at 1.2s,\testimator extra_tree's best error=0.1533,\tbest estimator lgbm's best error=0.0400\n",
            "[flaml.automl.automl: 02-07 16:15:37] {3323} INFO - iteration 25, current learner extra_tree\n",
            "[flaml.automl.automl: 02-07 16:15:37] {3508} INFO -  at 1.3s,\testimator extra_tree's best error=0.0733,\tbest estimator lgbm's best error=0.0400\n",
            "[flaml.automl.automl: 02-07 16:15:37] {3323} INFO - iteration 26, current learner rf\n",
            "[flaml.automl.automl: 02-07 16:15:37] {3508} INFO -  at 1.4s,\testimator rf's best error=0.0667,\tbest estimator lgbm's best error=0.0400\n",
            "[flaml.automl.automl: 02-07 16:15:37] {3323} INFO - iteration 27, current learner extra_tree\n",
            "[flaml.automl.automl: 02-07 16:15:37] {3508} INFO -  at 1.5s,\testimator extra_tree's best error=0.0733,\tbest estimator lgbm's best error=0.0400\n",
            "[flaml.automl.automl: 02-07 16:15:37] {3323} INFO - iteration 28, current learner extra_tree\n",
            "[flaml.automl.automl: 02-07 16:15:38] {3508} INFO -  at 1.6s,\testimator extra_tree's best error=0.0733,\tbest estimator lgbm's best error=0.0400\n",
            "[flaml.automl.automl: 02-07 16:15:38] {3323} INFO - iteration 29, current learner extra_tree\n",
            "[flaml.automl.automl: 02-07 16:15:38] {3508} INFO -  at 1.7s,\testimator extra_tree's best error=0.0733,\tbest estimator lgbm's best error=0.0400\n",
            "[flaml.automl.automl: 02-07 16:15:38] {3323} INFO - iteration 30, current learner lgbm\n",
            "[flaml.automl.automl: 02-07 16:15:38] {3508} INFO -  at 1.7s,\testimator lgbm's best error=0.0400,\tbest estimator lgbm's best error=0.0400\n",
            "[flaml.automl.automl: 02-07 16:15:38] {3323} INFO - iteration 31, current learner lgbm\n",
            "[flaml.automl.automl: 02-07 16:15:38] {3508} INFO -  at 1.8s,\testimator lgbm's best error=0.0400,\tbest estimator lgbm's best error=0.0400\n",
            "[flaml.automl.automl: 02-07 16:15:38] {3323} INFO - iteration 32, current learner lgbm\n",
            "[flaml.automl.automl: 02-07 16:15:38] {3508} INFO -  at 1.8s,\testimator lgbm's best error=0.0400,\tbest estimator lgbm's best error=0.0400\n",
            "[flaml.automl.automl: 02-07 16:15:38] {3323} INFO - iteration 33, current learner extra_tree\n",
            "[flaml.automl.automl: 02-07 16:15:38] {3508} INFO -  at 1.9s,\testimator extra_tree's best error=0.0667,\tbest estimator lgbm's best error=0.0400\n",
            "[flaml.automl.automl: 02-07 16:15:38] {3323} INFO - iteration 34, current learner lgbm\n",
            "[flaml.automl.automl: 02-07 16:15:38] {3508} INFO -  at 1.9s,\testimator lgbm's best error=0.0400,\tbest estimator lgbm's best error=0.0400\n",
            "[flaml.automl.automl: 02-07 16:15:38] {3323} INFO - iteration 35, current learner rf\n",
            "[flaml.automl.automl: 02-07 16:15:38] {3508} INFO -  at 2.1s,\testimator rf's best error=0.0667,\tbest estimator lgbm's best error=0.0400\n",
            "[flaml.automl.automl: 02-07 16:15:38] {3323} INFO - iteration 36, current learner extra_tree\n",
            "[flaml.automl.automl: 02-07 16:15:38] {3508} INFO -  at 2.2s,\testimator extra_tree's best error=0.0667,\tbest estimator lgbm's best error=0.0400\n",
            "[flaml.automl.automl: 02-07 16:15:38] {3323} INFO - iteration 37, current learner xgboost\n",
            "[flaml.automl.automl: 02-07 16:15:38] {3508} INFO -  at 2.2s,\testimator xgboost's best error=0.0467,\tbest estimator lgbm's best error=0.0400\n",
            "[flaml.automl.automl: 02-07 16:15:38] {3323} INFO - iteration 38, current learner xgboost\n",
            "[flaml.automl.automl: 02-07 16:15:38] {3508} INFO -  at 2.3s,\testimator xgboost's best error=0.0467,\tbest estimator lgbm's best error=0.0400\n",
            "[flaml.automl.automl: 02-07 16:15:38] {3323} INFO - iteration 39, current learner lgbm\n",
            "[flaml.automl.automl: 02-07 16:15:38] {3508} INFO -  at 2.3s,\testimator lgbm's best error=0.0400,\tbest estimator lgbm's best error=0.0400\n",
            "[flaml.automl.automl: 02-07 16:15:38] {3323} INFO - iteration 40, current learner xgboost\n",
            "[flaml.automl.automl: 02-07 16:15:38] {3508} INFO -  at 2.4s,\testimator xgboost's best error=0.0467,\tbest estimator lgbm's best error=0.0400\n",
            "[flaml.automl.automl: 02-07 16:15:38] {3323} INFO - iteration 41, current learner xgboost\n",
            "[flaml.automl.automl: 02-07 16:15:38] {3508} INFO -  at 2.4s,\testimator xgboost's best error=0.0467,\tbest estimator lgbm's best error=0.0400\n",
            "[flaml.automl.automl: 02-07 16:15:38] {3323} INFO - iteration 42, current learner lgbm\n",
            "[flaml.automl.automl: 02-07 16:15:38] {3508} INFO -  at 2.5s,\testimator lgbm's best error=0.0400,\tbest estimator lgbm's best error=0.0400\n",
            "[flaml.automl.automl: 02-07 16:15:38] {3323} INFO - iteration 43, current learner xgboost\n",
            "[flaml.automl.automl: 02-07 16:15:38] {3508} INFO -  at 2.5s,\testimator xgboost's best error=0.0467,\tbest estimator lgbm's best error=0.0400\n",
            "[flaml.automl.automl: 02-07 16:15:38] {3323} INFO - iteration 44, current learner extra_tree\n",
            "[flaml.automl.automl: 02-07 16:15:39] {3508} INFO -  at 2.6s,\testimator extra_tree's best error=0.0667,\tbest estimator lgbm's best error=0.0400\n",
            "[flaml.automl.automl: 02-07 16:15:39] {3323} INFO - iteration 45, current learner xgboost\n",
            "[flaml.automl.automl: 02-07 16:15:39] {3508} INFO -  at 2.7s,\testimator xgboost's best error=0.0467,\tbest estimator lgbm's best error=0.0400\n",
            "[flaml.automl.automl: 02-07 16:15:39] {3323} INFO - iteration 46, current learner lgbm\n",
            "[flaml.automl.automl: 02-07 16:15:39] {3508} INFO -  at 2.7s,\testimator lgbm's best error=0.0400,\tbest estimator lgbm's best error=0.0400\n",
            "[flaml.automl.automl: 02-07 16:15:39] {3323} INFO - iteration 47, current learner xgboost\n",
            "[flaml.automl.automl: 02-07 16:15:39] {3508} INFO -  at 2.8s,\testimator xgboost's best error=0.0467,\tbest estimator lgbm's best error=0.0400\n",
            "[flaml.automl.automl: 02-07 16:15:39] {3323} INFO - iteration 48, current learner lgbm\n",
            "[flaml.automl.automl: 02-07 16:15:39] {3508} INFO -  at 2.8s,\testimator lgbm's best error=0.0400,\tbest estimator lgbm's best error=0.0400\n",
            "[flaml.automl.automl: 02-07 16:15:39] {3323} INFO - iteration 49, current learner rf\n",
            "[flaml.automl.automl: 02-07 16:15:39] {3508} INFO -  at 2.9s,\testimator rf's best error=0.0467,\tbest estimator lgbm's best error=0.0400\n",
            "[flaml.automl.automl: 02-07 16:15:39] {3323} INFO - iteration 50, current learner xgboost\n",
            "[flaml.automl.automl: 02-07 16:15:39] {3508} INFO -  at 3.0s,\testimator xgboost's best error=0.0467,\tbest estimator lgbm's best error=0.0400\n",
            "[flaml.automl.automl: 02-07 16:15:39] {3323} INFO - iteration 51, current learner rf\n",
            "[flaml.automl.automl: 02-07 16:15:39] {3508} INFO -  at 3.1s,\testimator rf's best error=0.0467,\tbest estimator lgbm's best error=0.0400\n",
            "[flaml.automl.automl: 02-07 16:15:39] {3323} INFO - iteration 52, current learner rf\n",
            "[flaml.automl.automl: 02-07 16:15:39] {3508} INFO -  at 3.2s,\testimator rf's best error=0.0467,\tbest estimator lgbm's best error=0.0400\n",
            "[flaml.automl.automl: 02-07 16:15:39] {3323} INFO - iteration 53, current learner lgbm\n",
            "[flaml.automl.automl: 02-07 16:15:39] {3508} INFO -  at 3.2s,\testimator lgbm's best error=0.0400,\tbest estimator lgbm's best error=0.0400\n",
            "[flaml.automl.automl: 02-07 16:15:39] {3323} INFO - iteration 54, current learner lgbm\n",
            "[flaml.automl.automl: 02-07 16:15:39] {3508} INFO -  at 3.3s,\testimator lgbm's best error=0.0400,\tbest estimator lgbm's best error=0.0400\n",
            "[flaml.automl.automl: 02-07 16:15:39] {3323} INFO - iteration 55, current learner rf\n",
            "[flaml.automl.automl: 02-07 16:15:39] {3508} INFO -  at 3.4s,\testimator rf's best error=0.0467,\tbest estimator lgbm's best error=0.0400\n",
            "[flaml.automl.automl: 02-07 16:15:39] {3323} INFO - iteration 56, current learner lgbm\n",
            "[flaml.automl.automl: 02-07 16:15:39] {3508} INFO -  at 3.5s,\testimator lgbm's best error=0.0400,\tbest estimator lgbm's best error=0.0400\n",
            "[flaml.automl.automl: 02-07 16:15:39] {3323} INFO - iteration 57, current learner rf\n",
            "[flaml.automl.automl: 02-07 16:15:39] {3508} INFO -  at 3.6s,\testimator rf's best error=0.0467,\tbest estimator lgbm's best error=0.0400\n",
            "[flaml.automl.automl: 02-07 16:15:39] {3323} INFO - iteration 58, current learner rf\n",
            "[flaml.automl.automl: 02-07 16:15:40] {3508} INFO -  at 3.7s,\testimator rf's best error=0.0467,\tbest estimator lgbm's best error=0.0400\n",
            "[flaml.automl.automl: 02-07 16:15:40] {3323} INFO - iteration 59, current learner lgbm\n",
            "[flaml.automl.automl: 02-07 16:15:40] {3508} INFO -  at 3.7s,\testimator lgbm's best error=0.0400,\tbest estimator lgbm's best error=0.0400\n",
            "[flaml.automl.automl: 02-07 16:15:40] {3323} INFO - iteration 60, current learner rf\n",
            "[flaml.automl.automl: 02-07 16:15:40] {3508} INFO -  at 3.8s,\testimator rf's best error=0.0467,\tbest estimator lgbm's best error=0.0400\n",
            "[flaml.automl.automl: 02-07 16:15:40] {3323} INFO - iteration 61, current learner lgbm\n",
            "[flaml.automl.automl: 02-07 16:15:40] {3508} INFO -  at 3.8s,\testimator lgbm's best error=0.0400,\tbest estimator lgbm's best error=0.0400\n",
            "[flaml.automl.automl: 02-07 16:15:40] {3323} INFO - iteration 62, current learner rf\n",
            "[flaml.automl.automl: 02-07 16:15:40] {3508} INFO -  at 3.9s,\testimator rf's best error=0.0400,\tbest estimator lgbm's best error=0.0400\n",
            "[flaml.automl.automl: 02-07 16:15:40] {3323} INFO - iteration 63, current learner xgboost\n",
            "[flaml.automl.automl: 02-07 16:15:40] {3508} INFO -  at 4.0s,\testimator xgboost's best error=0.0467,\tbest estimator lgbm's best error=0.0400\n",
            "[flaml.automl.automl: 02-07 16:15:40] {3323} INFO - iteration 64, current learner lgbm\n",
            "[flaml.automl.automl: 02-07 16:15:40] {3508} INFO -  at 4.0s,\testimator lgbm's best error=0.0400,\tbest estimator lgbm's best error=0.0400\n",
            "[flaml.automl.automl: 02-07 16:15:40] {3323} INFO - iteration 65, current learner rf\n",
            "[flaml.automl.automl: 02-07 16:15:40] {3508} INFO -  at 4.2s,\testimator rf's best error=0.0400,\tbest estimator lgbm's best error=0.0400\n",
            "[flaml.automl.automl: 02-07 16:15:40] {3323} INFO - iteration 66, current learner xgboost\n",
            "[flaml.automl.automl: 02-07 16:15:40] {3508} INFO -  at 4.2s,\testimator xgboost's best error=0.0467,\tbest estimator lgbm's best error=0.0400\n",
            "[flaml.automl.automl: 02-07 16:15:40] {3323} INFO - iteration 67, current learner rf\n",
            "[flaml.automl.automl: 02-07 16:15:40] {3508} INFO -  at 4.3s,\testimator rf's best error=0.0400,\tbest estimator lgbm's best error=0.0400\n",
            "[flaml.automl.automl: 02-07 16:15:40] {3323} INFO - iteration 68, current learner lgbm\n",
            "[flaml.automl.automl: 02-07 16:15:40] {3508} INFO -  at 4.4s,\testimator lgbm's best error=0.0400,\tbest estimator lgbm's best error=0.0400\n",
            "[flaml.automl.automl: 02-07 16:15:40] {3323} INFO - iteration 69, current learner rf\n",
            "[flaml.automl.automl: 02-07 16:15:40] {3508} INFO -  at 4.5s,\testimator rf's best error=0.0400,\tbest estimator lgbm's best error=0.0400\n",
            "[flaml.automl.automl: 02-07 16:15:40] {3323} INFO - iteration 70, current learner xgboost\n",
            "[flaml.automl.automl: 02-07 16:15:40] {3508} INFO -  at 4.5s,\testimator xgboost's best error=0.0467,\tbest estimator lgbm's best error=0.0400\n",
            "[flaml.automl.automl: 02-07 16:15:40] {3323} INFO - iteration 71, current learner rf\n",
            "[flaml.automl.automl: 02-07 16:15:41] {3508} INFO -  at 4.6s,\testimator rf's best error=0.0400,\tbest estimator lgbm's best error=0.0400\n",
            "[flaml.automl.automl: 02-07 16:15:41] {3323} INFO - iteration 72, current learner xgboost\n",
            "[flaml.automl.automl: 02-07 16:15:41] {3508} INFO -  at 4.7s,\testimator xgboost's best error=0.0467,\tbest estimator lgbm's best error=0.0400\n",
            "[flaml.automl.automl: 02-07 16:15:41] {3323} INFO - iteration 73, current learner rf\n",
            "[flaml.automl.automl: 02-07 16:15:41] {3508} INFO -  at 4.8s,\testimator rf's best error=0.0400,\tbest estimator lgbm's best error=0.0400\n",
            "[flaml.automl.automl: 02-07 16:15:41] {3323} INFO - iteration 74, current learner xgboost\n",
            "[flaml.automl.automl: 02-07 16:15:41] {3508} INFO -  at 4.8s,\testimator xgboost's best error=0.0467,\tbest estimator lgbm's best error=0.0400\n",
            "[flaml.automl.automl: 02-07 16:15:41] {3323} INFO - iteration 75, current learner lgbm\n",
            "[flaml.automl.automl: 02-07 16:15:41] {3508} INFO -  at 4.9s,\testimator lgbm's best error=0.0400,\tbest estimator lgbm's best error=0.0400\n",
            "[flaml.automl.automl: 02-07 16:15:41] {3323} INFO - iteration 76, current learner lgbm\n",
            "[flaml.automl.automl: 02-07 16:15:41] {3508} INFO -  at 5.0s,\testimator lgbm's best error=0.0400,\tbest estimator lgbm's best error=0.0400\n",
            "[flaml.automl.automl: 02-07 16:15:41] {3323} INFO - iteration 77, current learner xgboost\n",
            "[flaml.automl.automl: 02-07 16:15:41] {3508} INFO -  at 5.1s,\testimator xgboost's best error=0.0400,\tbest estimator lgbm's best error=0.0400\n",
            "[flaml.automl.automl: 02-07 16:15:41] {3323} INFO - iteration 78, current learner rf\n",
            "[flaml.automl.automl: 02-07 16:15:41] {3508} INFO -  at 5.2s,\testimator rf's best error=0.0400,\tbest estimator lgbm's best error=0.0400\n",
            "[flaml.automl.automl: 02-07 16:15:41] {3323} INFO - iteration 79, current learner lgbm\n",
            "[flaml.automl.automl: 02-07 16:15:42] {3508} INFO -  at 6.4s,\testimator lgbm's best error=0.0400,\tbest estimator lgbm's best error=0.0400\n",
            "[flaml.automl.automl: 02-07 16:15:42] {3323} INFO - iteration 80, current learner xgboost\n",
            "[flaml.automl.automl: 02-07 16:15:43] {3508} INFO -  at 6.8s,\testimator xgboost's best error=0.0400,\tbest estimator lgbm's best error=0.0400\n",
            "[flaml.automl.automl: 02-07 16:15:43] {3323} INFO - iteration 81, current learner rf\n",
            "[flaml.automl.automl: 02-07 16:15:43] {3508} INFO -  at 7.1s,\testimator rf's best error=0.0400,\tbest estimator lgbm's best error=0.0400\n",
            "[flaml.automl.automl: 02-07 16:15:43] {3323} INFO - iteration 82, current learner xgboost\n",
            "[flaml.automl.automl: 02-07 16:15:43] {3508} INFO -  at 7.3s,\testimator xgboost's best error=0.0400,\tbest estimator lgbm's best error=0.0400\n",
            "[flaml.automl.automl: 02-07 16:15:43] {3323} INFO - iteration 83, current learner xgboost\n",
            "[flaml.automl.automl: 02-07 16:15:43] {3508} INFO -  at 7.4s,\testimator xgboost's best error=0.0400,\tbest estimator lgbm's best error=0.0400\n",
            "[flaml.automl.automl: 02-07 16:15:43] {3323} INFO - iteration 84, current learner xgboost\n",
            "[flaml.automl.automl: 02-07 16:15:43] {3508} INFO -  at 7.5s,\testimator xgboost's best error=0.0400,\tbest estimator lgbm's best error=0.0400\n",
            "[flaml.automl.automl: 02-07 16:15:43] {3323} INFO - iteration 85, current learner xgboost\n",
            "[flaml.automl.automl: 02-07 16:15:44] {3508} INFO -  at 7.6s,\testimator xgboost's best error=0.0400,\tbest estimator lgbm's best error=0.0400\n",
            "[flaml.automl.automl: 02-07 16:15:44] {3323} INFO - iteration 86, current learner xgboost\n",
            "[flaml.automl.automl: 02-07 16:15:44] {3508} INFO -  at 7.7s,\testimator xgboost's best error=0.0400,\tbest estimator lgbm's best error=0.0400\n",
            "[flaml.automl.automl: 02-07 16:15:44] {3323} INFO - iteration 87, current learner rf\n",
            "[flaml.automl.automl: 02-07 16:15:44] {3508} INFO -  at 7.8s,\testimator rf's best error=0.0400,\tbest estimator lgbm's best error=0.0400\n",
            "[flaml.automl.automl: 02-07 16:15:44] {3323} INFO - iteration 88, current learner rf\n",
            "[flaml.automl.automl: 02-07 16:15:44] {3508} INFO -  at 8.0s,\testimator rf's best error=0.0400,\tbest estimator lgbm's best error=0.0400\n",
            "[flaml.automl.automl: 02-07 16:15:44] {3323} INFO - iteration 89, current learner xgboost\n",
            "[flaml.automl.automl: 02-07 16:15:44] {3508} INFO -  at 8.0s,\testimator xgboost's best error=0.0400,\tbest estimator lgbm's best error=0.0400\n",
            "[flaml.automl.automl: 02-07 16:15:44] {3323} INFO - iteration 90, current learner rf\n",
            "[flaml.automl.automl: 02-07 16:15:44] {3508} INFO -  at 8.2s,\testimator rf's best error=0.0400,\tbest estimator lgbm's best error=0.0400\n",
            "[flaml.automl.automl: 02-07 16:15:44] {3323} INFO - iteration 91, current learner extra_tree\n",
            "[flaml.automl.automl: 02-07 16:15:44] {3508} INFO -  at 8.3s,\testimator extra_tree's best error=0.0667,\tbest estimator lgbm's best error=0.0400\n",
            "[flaml.automl.automl: 02-07 16:15:44] {3323} INFO - iteration 92, current learner xgboost\n",
            "[flaml.automl.automl: 02-07 16:15:44] {3508} INFO -  at 8.5s,\testimator xgboost's best error=0.0400,\tbest estimator lgbm's best error=0.0400\n",
            "[flaml.automl.automl: 02-07 16:15:44] {3323} INFO - iteration 93, current learner xgboost\n",
            "[flaml.automl.automl: 02-07 16:15:44] {3508} INFO -  at 8.5s,\testimator xgboost's best error=0.0400,\tbest estimator lgbm's best error=0.0400\n",
            "[flaml.automl.automl: 02-07 16:15:44] {3323} INFO - iteration 94, current learner lgbm\n",
            "[flaml.automl.automl: 02-07 16:15:45] {3508} INFO -  at 8.7s,\testimator lgbm's best error=0.0400,\tbest estimator lgbm's best error=0.0400\n",
            "[flaml.automl.automl: 02-07 16:15:45] {3323} INFO - iteration 95, current learner extra_tree\n",
            "[flaml.automl.automl: 02-07 16:15:45] {3508} INFO -  at 8.8s,\testimator extra_tree's best error=0.0667,\tbest estimator lgbm's best error=0.0400\n",
            "[flaml.automl.automl: 02-07 16:15:45] {3323} INFO - iteration 96, current learner rf\n",
            "[flaml.automl.automl: 02-07 16:15:45] {3508} INFO -  at 8.9s,\testimator rf's best error=0.0400,\tbest estimator lgbm's best error=0.0400\n",
            "[flaml.automl.automl: 02-07 16:15:45] {3323} INFO - iteration 97, current learner xgboost\n",
            "[flaml.automl.automl: 02-07 16:15:45] {3508} INFO -  at 9.1s,\testimator xgboost's best error=0.0400,\tbest estimator lgbm's best error=0.0400\n",
            "[flaml.automl.automl: 02-07 16:15:45] {3323} INFO - iteration 98, current learner rf\n",
            "[flaml.automl.automl: 02-07 16:15:45] {3508} INFO -  at 9.4s,\testimator rf's best error=0.0400,\tbest estimator lgbm's best error=0.0400\n",
            "[flaml.automl.automl: 02-07 16:15:45] {3323} INFO - iteration 99, current learner lgbm\n",
            "[flaml.automl.automl: 02-07 16:15:46] {3508} INFO -  at 10.5s,\testimator lgbm's best error=0.0400,\tbest estimator lgbm's best error=0.0400\n",
            "[flaml.automl.automl: 02-07 16:15:46] {3323} INFO - iteration 100, current learner xgboost\n",
            "[flaml.automl.automl: 02-07 16:15:46] {3508} INFO -  at 10.6s,\testimator xgboost's best error=0.0400,\tbest estimator lgbm's best error=0.0400\n",
            "[flaml.automl.automl: 02-07 16:15:46] {3323} INFO - iteration 101, current learner xgboost\n",
            "[flaml.automl.automl: 02-07 16:15:47] {3508} INFO -  at 10.7s,\testimator xgboost's best error=0.0400,\tbest estimator lgbm's best error=0.0400\n",
            "[flaml.automl.automl: 02-07 16:15:47] {3323} INFO - iteration 102, current learner lgbm\n",
            "[flaml.automl.automl: 02-07 16:15:47] {3508} INFO -  at 10.8s,\testimator lgbm's best error=0.0400,\tbest estimator lgbm's best error=0.0400\n",
            "[flaml.automl.automl: 02-07 16:15:47] {3323} INFO - iteration 103, current learner xgboost\n",
            "[flaml.automl.automl: 02-07 16:15:47] {3508} INFO -  at 10.9s,\testimator xgboost's best error=0.0400,\tbest estimator lgbm's best error=0.0400\n",
            "[flaml.automl.automl: 02-07 16:15:47] {3323} INFO - iteration 104, current learner rf\n",
            "[flaml.automl.automl: 02-07 16:15:47] {3508} INFO -  at 11.0s,\testimator rf's best error=0.0400,\tbest estimator lgbm's best error=0.0400\n",
            "[flaml.automl.automl: 02-07 16:15:47] {3323} INFO - iteration 105, current learner rf\n",
            "[flaml.automl.automl: 02-07 16:15:47] {3508} INFO -  at 11.2s,\testimator rf's best error=0.0400,\tbest estimator lgbm's best error=0.0400\n",
            "[flaml.automl.automl: 02-07 16:15:47] {3323} INFO - iteration 106, current learner xgboost\n",
            "[flaml.automl.automl: 02-07 16:15:47] {3508} INFO -  at 11.3s,\testimator xgboost's best error=0.0400,\tbest estimator lgbm's best error=0.0400\n",
            "[flaml.automl.automl: 02-07 16:15:47] {3323} INFO - iteration 107, current learner rf\n",
            "[flaml.automl.automl: 02-07 16:15:47] {3508} INFO -  at 11.4s,\testimator rf's best error=0.0400,\tbest estimator lgbm's best error=0.0400\n",
            "[flaml.automl.automl: 02-07 16:15:47] {3323} INFO - iteration 108, current learner extra_tree\n",
            "[flaml.automl.automl: 02-07 16:15:47] {3508} INFO -  at 11.6s,\testimator extra_tree's best error=0.0667,\tbest estimator lgbm's best error=0.0400\n",
            "[flaml.automl.automl: 02-07 16:15:47] {3323} INFO - iteration 109, current learner xgboost\n",
            "[flaml.automl.automl: 02-07 16:15:48] {3508} INFO -  at 12.0s,\testimator xgboost's best error=0.0400,\tbest estimator lgbm's best error=0.0400\n",
            "[flaml.automl.automl: 02-07 16:15:48] {3323} INFO - iteration 110, current learner lgbm\n",
            "[flaml.automl.automl: 02-07 16:15:48] {3508} INFO -  at 12.1s,\testimator lgbm's best error=0.0400,\tbest estimator lgbm's best error=0.0400\n",
            "[flaml.automl.automl: 02-07 16:15:48] {3323} INFO - iteration 111, current learner extra_tree\n",
            "[flaml.automl.automl: 02-07 16:15:48] {3508} INFO -  at 12.2s,\testimator extra_tree's best error=0.0533,\tbest estimator lgbm's best error=0.0400\n",
            "[flaml.automl.automl: 02-07 16:15:48] {3323} INFO - iteration 112, current learner extra_tree\n",
            "[flaml.automl.automl: 02-07 16:15:48] {3508} INFO -  at 12.3s,\testimator extra_tree's best error=0.0533,\tbest estimator lgbm's best error=0.0400\n",
            "[flaml.automl.automl: 02-07 16:15:48] {3323} INFO - iteration 113, current learner extra_tree\n",
            "[flaml.automl.automl: 02-07 16:15:48] {3508} INFO -  at 12.4s,\testimator extra_tree's best error=0.0533,\tbest estimator lgbm's best error=0.0400\n",
            "[flaml.automl.automl: 02-07 16:15:48] {3323} INFO - iteration 114, current learner rf\n",
            "[flaml.automl.automl: 02-07 16:15:48] {3508} INFO -  at 12.5s,\testimator rf's best error=0.0400,\tbest estimator lgbm's best error=0.0400\n",
            "[flaml.automl.automl: 02-07 16:15:48] {3323} INFO - iteration 115, current learner lgbm\n",
            "[flaml.automl.automl: 02-07 16:15:48] {3508} INFO -  at 12.6s,\testimator lgbm's best error=0.0400,\tbest estimator lgbm's best error=0.0400\n",
            "[flaml.automl.automl: 02-07 16:15:48] {3323} INFO - iteration 116, current learner extra_tree\n",
            "[flaml.automl.automl: 02-07 16:15:49] {3508} INFO -  at 12.6s,\testimator extra_tree's best error=0.0467,\tbest estimator lgbm's best error=0.0400\n",
            "[flaml.automl.automl: 02-07 16:15:49] {3323} INFO - iteration 117, current learner extra_tree\n",
            "[flaml.automl.automl: 02-07 16:15:49] {3508} INFO -  at 12.7s,\testimator extra_tree's best error=0.0467,\tbest estimator lgbm's best error=0.0400\n",
            "[flaml.automl.automl: 02-07 16:15:49] {3323} INFO - iteration 118, current learner lgbm\n",
            "[flaml.automl.automl: 02-07 16:15:49] {3508} INFO -  at 12.8s,\testimator lgbm's best error=0.0400,\tbest estimator lgbm's best error=0.0400\n",
            "[flaml.automl.automl: 02-07 16:15:49] {3323} INFO - iteration 119, current learner extra_tree\n",
            "[flaml.automl.automl: 02-07 16:15:49] {3508} INFO -  at 12.9s,\testimator extra_tree's best error=0.0467,\tbest estimator lgbm's best error=0.0400\n",
            "[flaml.automl.automl: 02-07 16:15:49] {3323} INFO - iteration 120, current learner extra_tree\n",
            "[flaml.automl.automl: 02-07 16:15:49] {3508} INFO -  at 13.0s,\testimator extra_tree's best error=0.0467,\tbest estimator lgbm's best error=0.0400\n",
            "[flaml.automl.automl: 02-07 16:15:49] {3323} INFO - iteration 121, current learner extra_tree\n",
            "[flaml.automl.automl: 02-07 16:15:49] {3508} INFO -  at 13.0s,\testimator extra_tree's best error=0.0467,\tbest estimator lgbm's best error=0.0400\n",
            "[flaml.automl.automl: 02-07 16:15:49] {3323} INFO - iteration 122, current learner extra_tree\n",
            "[flaml.automl.automl: 02-07 16:15:49] {3508} INFO -  at 13.1s,\testimator extra_tree's best error=0.0467,\tbest estimator lgbm's best error=0.0400\n",
            "[flaml.automl.automl: 02-07 16:15:49] {3323} INFO - iteration 123, current learner lgbm\n",
            "[flaml.automl.automl: 02-07 16:15:49] {3508} INFO -  at 13.1s,\testimator lgbm's best error=0.0400,\tbest estimator lgbm's best error=0.0400\n",
            "[flaml.automl.automl: 02-07 16:15:49] {3323} INFO - iteration 124, current learner lgbm\n",
            "[flaml.automl.automl: 02-07 16:15:49] {3508} INFO -  at 13.2s,\testimator lgbm's best error=0.0400,\tbest estimator lgbm's best error=0.0400\n",
            "[flaml.automl.automl: 02-07 16:15:49] {3323} INFO - iteration 125, current learner lgbm\n",
            "[flaml.automl.automl: 02-07 16:15:49] {3508} INFO -  at 13.2s,\testimator lgbm's best error=0.0333,\tbest estimator lgbm's best error=0.0333\n",
            "[flaml.automl.automl: 02-07 16:15:49] {3323} INFO - iteration 126, current learner lgbm\n",
            "[flaml.automl.automl: 02-07 16:15:49] {3508} INFO -  at 13.3s,\testimator lgbm's best error=0.0333,\tbest estimator lgbm's best error=0.0333\n",
            "[flaml.automl.automl: 02-07 16:15:49] {3323} INFO - iteration 127, current learner lgbm\n",
            "[flaml.automl.automl: 02-07 16:15:49] {3508} INFO -  at 13.3s,\testimator lgbm's best error=0.0333,\tbest estimator lgbm's best error=0.0333\n",
            "[flaml.automl.automl: 02-07 16:15:49] {3323} INFO - iteration 128, current learner extra_tree\n",
            "[flaml.automl.automl: 02-07 16:15:49] {3508} INFO -  at 13.4s,\testimator extra_tree's best error=0.0467,\tbest estimator lgbm's best error=0.0333\n",
            "[flaml.automl.automl: 02-07 16:15:49] {3323} INFO - iteration 129, current learner xgboost\n",
            "[flaml.automl.automl: 02-07 16:15:49] {3508} INFO -  at 13.5s,\testimator xgboost's best error=0.0400,\tbest estimator lgbm's best error=0.0333\n",
            "[flaml.automl.automl: 02-07 16:15:49] {3323} INFO - iteration 130, current learner xgboost\n",
            "[flaml.automl.automl: 02-07 16:15:49] {3508} INFO -  at 13.5s,\testimator xgboost's best error=0.0400,\tbest estimator lgbm's best error=0.0333\n",
            "[flaml.automl.automl: 02-07 16:15:49] {3323} INFO - iteration 131, current learner extra_tree\n",
            "[flaml.automl.automl: 02-07 16:15:50] {3508} INFO -  at 13.6s,\testimator extra_tree's best error=0.0467,\tbest estimator lgbm's best error=0.0333\n",
            "[flaml.automl.automl: 02-07 16:15:50] {3323} INFO - iteration 132, current learner xgb_limitdepth\n",
            "[flaml.automl.automl: 02-07 16:15:50] {3508} INFO -  at 13.7s,\testimator xgb_limitdepth's best error=0.0467,\tbest estimator lgbm's best error=0.0333\n",
            "[flaml.automl.automl: 02-07 16:15:50] {3323} INFO - iteration 133, current learner xgb_limitdepth\n",
            "[flaml.automl.automl: 02-07 16:15:50] {3508} INFO -  at 13.7s,\testimator xgb_limitdepth's best error=0.0467,\tbest estimator lgbm's best error=0.0333\n",
            "[flaml.automl.automl: 02-07 16:15:50] {3323} INFO - iteration 134, current learner xgb_limitdepth\n",
            "[flaml.automl.automl: 02-07 16:15:50] {3508} INFO -  at 13.8s,\testimator xgb_limitdepth's best error=0.0467,\tbest estimator lgbm's best error=0.0333\n",
            "[flaml.automl.automl: 02-07 16:15:50] {3323} INFO - iteration 135, current learner xgb_limitdepth\n",
            "[flaml.automl.automl: 02-07 16:15:50] {3508} INFO -  at 13.9s,\testimator xgb_limitdepth's best error=0.0467,\tbest estimator lgbm's best error=0.0333\n",
            "[flaml.automl.automl: 02-07 16:15:50] {3323} INFO - iteration 136, current learner xgb_limitdepth\n",
            "[flaml.automl.automl: 02-07 16:15:50] {3508} INFO -  at 14.0s,\testimator xgb_limitdepth's best error=0.0467,\tbest estimator lgbm's best error=0.0333\n",
            "[flaml.automl.automl: 02-07 16:15:50] {3323} INFO - iteration 137, current learner xgb_limitdepth\n",
            "[flaml.automl.automl: 02-07 16:15:50] {3508} INFO -  at 14.1s,\testimator xgb_limitdepth's best error=0.0467,\tbest estimator lgbm's best error=0.0333\n",
            "[flaml.automl.automl: 02-07 16:15:50] {3323} INFO - iteration 138, current learner lgbm\n",
            "[flaml.automl.automl: 02-07 16:15:50] {3508} INFO -  at 14.1s,\testimator lgbm's best error=0.0333,\tbest estimator lgbm's best error=0.0333\n",
            "[flaml.automl.automl: 02-07 16:15:50] {3323} INFO - iteration 139, current learner xgb_limitdepth\n",
            "[flaml.automl.automl: 02-07 16:15:50] {3508} INFO -  at 14.2s,\testimator xgb_limitdepth's best error=0.0467,\tbest estimator lgbm's best error=0.0333\n",
            "[flaml.automl.automl: 02-07 16:15:50] {3323} INFO - iteration 140, current learner extra_tree\n",
            "[flaml.automl.automl: 02-07 16:15:50] {3508} INFO -  at 14.3s,\testimator extra_tree's best error=0.0467,\tbest estimator lgbm's best error=0.0333\n",
            "[flaml.automl.automl: 02-07 16:15:50] {3323} INFO - iteration 141, current learner xgb_limitdepth\n",
            "[flaml.automl.automl: 02-07 16:15:50] {3508} INFO -  at 14.4s,\testimator xgb_limitdepth's best error=0.0467,\tbest estimator lgbm's best error=0.0333\n",
            "[flaml.automl.automl: 02-07 16:15:50] {3323} INFO - iteration 142, current learner xgb_limitdepth\n",
            "[flaml.automl.automl: 02-07 16:15:50] {3508} INFO -  at 14.5s,\testimator xgb_limitdepth's best error=0.0467,\tbest estimator lgbm's best error=0.0333\n",
            "[flaml.automl.automl: 02-07 16:15:50] {3323} INFO - iteration 143, current learner xgb_limitdepth\n",
            "[flaml.automl.automl: 02-07 16:15:50] {3508} INFO -  at 14.5s,\testimator xgb_limitdepth's best error=0.0467,\tbest estimator lgbm's best error=0.0333\n",
            "[flaml.automl.automl: 02-07 16:15:50] {3323} INFO - iteration 144, current learner xgb_limitdepth\n",
            "[flaml.automl.automl: 02-07 16:15:51] {3508} INFO -  at 14.6s,\testimator xgb_limitdepth's best error=0.0467,\tbest estimator lgbm's best error=0.0333\n",
            "[flaml.automl.automl: 02-07 16:15:51] {3323} INFO - iteration 145, current learner xgb_limitdepth\n",
            "[flaml.automl.automl: 02-07 16:15:51] {3508} INFO -  at 14.7s,\testimator xgb_limitdepth's best error=0.0467,\tbest estimator lgbm's best error=0.0333\n",
            "[flaml.automl.automl: 02-07 16:15:51] {3323} INFO - iteration 146, current learner rf\n",
            "[flaml.automl.automl: 02-07 16:15:51] {3508} INFO -  at 14.8s,\testimator rf's best error=0.0400,\tbest estimator lgbm's best error=0.0333\n",
            "[flaml.automl.automl: 02-07 16:15:51] {3323} INFO - iteration 147, current learner lgbm\n",
            "[flaml.automl.automl: 02-07 16:15:51] {3508} INFO -  at 14.8s,\testimator lgbm's best error=0.0333,\tbest estimator lgbm's best error=0.0333\n",
            "[flaml.automl.automl: 02-07 16:15:51] {3323} INFO - iteration 148, current learner lgbm\n",
            "[flaml.automl.automl: 02-07 16:15:51] {3508} INFO -  at 14.9s,\testimator lgbm's best error=0.0333,\tbest estimator lgbm's best error=0.0333\n",
            "[flaml.automl.automl: 02-07 16:15:51] {3323} INFO - iteration 149, current learner lgbm\n",
            "[flaml.automl.automl: 02-07 16:15:51] {3508} INFO -  at 14.9s,\testimator lgbm's best error=0.0333,\tbest estimator lgbm's best error=0.0333\n",
            "[flaml.automl.automl: 02-07 16:15:51] {3323} INFO - iteration 150, current learner lgbm\n",
            "[flaml.automl.automl: 02-07 16:15:51] {3508} INFO -  at 15.0s,\testimator lgbm's best error=0.0333,\tbest estimator lgbm's best error=0.0333\n",
            "[flaml.automl.automl: 02-07 16:15:51] {3323} INFO - iteration 151, current learner xgboost\n",
            "[flaml.automl.automl: 02-07 16:15:51] {3508} INFO -  at 15.0s,\testimator xgboost's best error=0.0400,\tbest estimator lgbm's best error=0.0333\n",
            "[flaml.automl.automl: 02-07 16:15:51] {3323} INFO - iteration 152, current learner xgb_limitdepth\n",
            "[flaml.automl.automl: 02-07 16:15:51] {3508} INFO -  at 15.1s,\testimator xgb_limitdepth's best error=0.0467,\tbest estimator lgbm's best error=0.0333\n",
            "[flaml.automl.automl: 02-07 16:15:51] {3323} INFO - iteration 153, current learner xgb_limitdepth\n",
            "[flaml.automl.automl: 02-07 16:15:51] {3508} INFO -  at 15.2s,\testimator xgb_limitdepth's best error=0.0467,\tbest estimator lgbm's best error=0.0333\n",
            "[flaml.automl.automl: 02-07 16:15:51] {3323} INFO - iteration 154, current learner lgbm\n",
            "[flaml.automl.automl: 02-07 16:15:51] {3508} INFO -  at 15.2s,\testimator lgbm's best error=0.0333,\tbest estimator lgbm's best error=0.0333\n",
            "[flaml.automl.automl: 02-07 16:15:51] {3323} INFO - iteration 155, current learner lgbm\n",
            "[flaml.automl.automl: 02-07 16:15:51] {3508} INFO -  at 15.2s,\testimator lgbm's best error=0.0333,\tbest estimator lgbm's best error=0.0333\n",
            "[flaml.automl.automl: 02-07 16:15:51] {3323} INFO - iteration 156, current learner xgb_limitdepth\n",
            "[flaml.automl.automl: 02-07 16:15:51] {3508} INFO -  at 15.3s,\testimator xgb_limitdepth's best error=0.0467,\tbest estimator lgbm's best error=0.0333\n",
            "[flaml.automl.automl: 02-07 16:15:51] {3323} INFO - iteration 157, current learner xgb_limitdepth\n",
            "[flaml.automl.automl: 02-07 16:15:51] {3508} INFO -  at 15.4s,\testimator xgb_limitdepth's best error=0.0467,\tbest estimator lgbm's best error=0.0333\n",
            "[flaml.automl.automl: 02-07 16:15:51] {3323} INFO - iteration 158, current learner rf\n",
            "[flaml.automl.automl: 02-07 16:15:51] {3508} INFO -  at 15.5s,\testimator rf's best error=0.0400,\tbest estimator lgbm's best error=0.0333\n",
            "[flaml.automl.automl: 02-07 16:15:51] {3323} INFO - iteration 159, current learner xgboost\n",
            "[flaml.automl.automl: 02-07 16:15:51] {3508} INFO -  at 15.5s,\testimator xgboost's best error=0.0400,\tbest estimator lgbm's best error=0.0333\n",
            "[flaml.automl.automl: 02-07 16:15:51] {3323} INFO - iteration 160, current learner xgb_limitdepth\n",
            "[flaml.automl.automl: 02-07 16:15:52] {3508} INFO -  at 15.6s,\testimator xgb_limitdepth's best error=0.0467,\tbest estimator lgbm's best error=0.0333\n",
            "[flaml.automl.automl: 02-07 16:15:52] {3323} INFO - iteration 161, current learner rf\n",
            "[flaml.automl.automl: 02-07 16:15:52] {3508} INFO -  at 15.7s,\testimator rf's best error=0.0400,\tbest estimator lgbm's best error=0.0333\n",
            "[flaml.automl.automl: 02-07 16:15:52] {3323} INFO - iteration 162, current learner xgb_limitdepth\n",
            "[flaml.automl.automl: 02-07 16:15:52] {3508} INFO -  at 15.8s,\testimator xgb_limitdepth's best error=0.0467,\tbest estimator lgbm's best error=0.0333\n",
            "[flaml.automl.automl: 02-07 16:15:52] {3323} INFO - iteration 163, current learner xgb_limitdepth\n",
            "[flaml.automl.automl: 02-07 16:15:52] {3508} INFO -  at 15.9s,\testimator xgb_limitdepth's best error=0.0467,\tbest estimator lgbm's best error=0.0333\n",
            "[flaml.automl.automl: 02-07 16:15:52] {3323} INFO - iteration 164, current learner xgb_limitdepth\n",
            "[flaml.automl.automl: 02-07 16:15:52] {3508} INFO -  at 15.9s,\testimator xgb_limitdepth's best error=0.0467,\tbest estimator lgbm's best error=0.0333\n",
            "[flaml.automl.automl: 02-07 16:15:52] {3323} INFO - iteration 165, current learner rf\n",
            "[flaml.automl.automl: 02-07 16:15:52] {3508} INFO -  at 16.0s,\testimator rf's best error=0.0400,\tbest estimator lgbm's best error=0.0333\n",
            "[flaml.automl.automl: 02-07 16:15:52] {3323} INFO - iteration 166, current learner extra_tree\n",
            "[flaml.automl.automl: 02-07 16:15:52] {3508} INFO -  at 16.1s,\testimator extra_tree's best error=0.0467,\tbest estimator lgbm's best error=0.0333\n",
            "[flaml.automl.automl: 02-07 16:15:52] {3323} INFO - iteration 167, current learner xgb_limitdepth\n",
            "[flaml.automl.automl: 02-07 16:15:52] {3508} INFO -  at 16.2s,\testimator xgb_limitdepth's best error=0.0467,\tbest estimator lgbm's best error=0.0333\n",
            "[flaml.automl.automl: 02-07 16:15:52] {3323} INFO - iteration 168, current learner xgb_limitdepth\n",
            "[flaml.automl.automl: 02-07 16:15:52] {3508} INFO -  at 16.3s,\testimator xgb_limitdepth's best error=0.0467,\tbest estimator lgbm's best error=0.0333\n",
            "[flaml.automl.automl: 02-07 16:15:52] {3323} INFO - iteration 169, current learner lgbm\n",
            "[flaml.automl.automl: 02-07 16:15:52] {3508} INFO -  at 16.3s,\testimator lgbm's best error=0.0333,\tbest estimator lgbm's best error=0.0333\n",
            "[flaml.automl.automl: 02-07 16:15:52] {3323} INFO - iteration 170, current learner lgbm\n",
            "[flaml.automl.automl: 02-07 16:15:52] {3508} INFO -  at 16.4s,\testimator lgbm's best error=0.0333,\tbest estimator lgbm's best error=0.0333\n",
            "[flaml.automl.automl: 02-07 16:15:52] {3323} INFO - iteration 171, current learner lgbm\n",
            "[flaml.automl.automl: 02-07 16:15:52] {3508} INFO -  at 16.4s,\testimator lgbm's best error=0.0333,\tbest estimator lgbm's best error=0.0333\n",
            "[flaml.automl.automl: 02-07 16:15:52] {3323} INFO - iteration 172, current learner extra_tree\n",
            "[flaml.automl.automl: 02-07 16:15:52] {3508} INFO -  at 16.5s,\testimator extra_tree's best error=0.0467,\tbest estimator lgbm's best error=0.0333\n",
            "[flaml.automl.automl: 02-07 16:15:52] {3323} INFO - iteration 173, current learner xgb_limitdepth\n",
            "[flaml.automl.automl: 02-07 16:15:53] {3508} INFO -  at 16.6s,\testimator xgb_limitdepth's best error=0.0333,\tbest estimator lgbm's best error=0.0333\n",
            "[flaml.automl.automl: 02-07 16:15:53] {3323} INFO - iteration 174, current learner xgb_limitdepth\n",
            "[flaml.automl.automl: 02-07 16:15:53] {3508} INFO -  at 16.7s,\testimator xgb_limitdepth's best error=0.0333,\tbest estimator lgbm's best error=0.0333\n",
            "[flaml.automl.automl: 02-07 16:15:53] {3323} INFO - iteration 175, current learner xgboost\n",
            "[flaml.automl.automl: 02-07 16:15:53] {3508} INFO -  at 16.7s,\testimator xgboost's best error=0.0400,\tbest estimator lgbm's best error=0.0333\n",
            "[flaml.automl.automl: 02-07 16:15:53] {3323} INFO - iteration 176, current learner xgb_limitdepth\n",
            "[flaml.automl.automl: 02-07 16:15:53] {3508} INFO -  at 16.8s,\testimator xgb_limitdepth's best error=0.0333,\tbest estimator lgbm's best error=0.0333\n",
            "[flaml.automl.automl: 02-07 16:15:53] {3323} INFO - iteration 177, current learner xgb_limitdepth\n",
            "[flaml.automl.automl: 02-07 16:15:53] {3508} INFO -  at 16.9s,\testimator xgb_limitdepth's best error=0.0333,\tbest estimator lgbm's best error=0.0333\n",
            "[flaml.automl.automl: 02-07 16:15:53] {3323} INFO - iteration 178, current learner xgboost\n",
            "[flaml.automl.automl: 02-07 16:15:53] {3508} INFO -  at 16.9s,\testimator xgboost's best error=0.0400,\tbest estimator lgbm's best error=0.0333\n",
            "[flaml.automl.automl: 02-07 16:15:53] {3323} INFO - iteration 179, current learner extra_tree\n",
            "[flaml.automl.automl: 02-07 16:15:53] {3508} INFO -  at 17.0s,\testimator extra_tree's best error=0.0467,\tbest estimator lgbm's best error=0.0333\n",
            "[flaml.automl.automl: 02-07 16:15:53] {3323} INFO - iteration 180, current learner xgb_limitdepth\n",
            "[flaml.automl.automl: 02-07 16:15:53] {3508} INFO -  at 17.1s,\testimator xgb_limitdepth's best error=0.0333,\tbest estimator lgbm's best error=0.0333\n",
            "[flaml.automl.automl: 02-07 16:15:53] {3323} INFO - iteration 181, current learner xgb_limitdepth\n",
            "[flaml.automl.automl: 02-07 16:15:53] {3508} INFO -  at 17.2s,\testimator xgb_limitdepth's best error=0.0333,\tbest estimator lgbm's best error=0.0333\n",
            "[flaml.automl.automl: 02-07 16:15:53] {3323} INFO - iteration 182, current learner rf\n",
            "[flaml.automl.automl: 02-07 16:15:53] {3508} INFO -  at 17.3s,\testimator rf's best error=0.0400,\tbest estimator lgbm's best error=0.0333\n",
            "[flaml.automl.automl: 02-07 16:15:53] {3323} INFO - iteration 183, current learner lgbm\n",
            "[flaml.automl.automl: 02-07 16:15:53] {3508} INFO -  at 17.4s,\testimator lgbm's best error=0.0333,\tbest estimator lgbm's best error=0.0333\n",
            "[flaml.automl.automl: 02-07 16:15:53] {3323} INFO - iteration 184, current learner xgboost\n",
            "[flaml.automl.automl: 02-07 16:15:53] {3508} INFO -  at 17.5s,\testimator xgboost's best error=0.0400,\tbest estimator lgbm's best error=0.0333\n",
            "[flaml.automl.automl: 02-07 16:15:53] {3323} INFO - iteration 185, current learner xgb_limitdepth\n",
            "[flaml.automl.automl: 02-07 16:15:54] {3508} INFO -  at 17.7s,\testimator xgb_limitdepth's best error=0.0333,\tbest estimator lgbm's best error=0.0333\n",
            "[flaml.automl.automl: 02-07 16:15:54] {3323} INFO - iteration 186, current learner rf\n",
            "[flaml.automl.automl: 02-07 16:15:54] {3508} INFO -  at 17.8s,\testimator rf's best error=0.0400,\tbest estimator lgbm's best error=0.0333\n",
            "[flaml.automl.automl: 02-07 16:15:54] {3323} INFO - iteration 187, current learner xgb_limitdepth\n",
            "[flaml.automl.automl: 02-07 16:15:55] {3508} INFO -  at 19.2s,\testimator xgb_limitdepth's best error=0.0333,\tbest estimator lgbm's best error=0.0333\n",
            "[flaml.automl.automl: 02-07 16:15:55] {3323} INFO - iteration 188, current learner lgbm\n",
            "[flaml.automl.automl: 02-07 16:15:55] {3508} INFO -  at 19.3s,\testimator lgbm's best error=0.0333,\tbest estimator lgbm's best error=0.0333\n",
            "[flaml.automl.automl: 02-07 16:15:55] {3323} INFO - iteration 189, current learner rf\n",
            "[flaml.automl.automl: 02-07 16:15:55] {3508} INFO -  at 19.4s,\testimator rf's best error=0.0400,\tbest estimator lgbm's best error=0.0333\n",
            "[flaml.automl.automl: 02-07 16:15:55] {3323} INFO - iteration 190, current learner xgb_limitdepth\n",
            "[flaml.automl.automl: 02-07 16:15:55] {3508} INFO -  at 19.5s,\testimator xgb_limitdepth's best error=0.0333,\tbest estimator lgbm's best error=0.0333\n",
            "[flaml.automl.automl: 02-07 16:15:55] {3323} INFO - iteration 191, current learner lgbm\n",
            "[flaml.automl.automl: 02-07 16:15:55] {3508} INFO -  at 19.5s,\testimator lgbm's best error=0.0333,\tbest estimator lgbm's best error=0.0333\n",
            "[flaml.automl.automl: 02-07 16:15:55] {3323} INFO - iteration 192, current learner xgb_limitdepth\n",
            "[flaml.automl.automl: 02-07 16:15:56] {3508} INFO -  at 19.6s,\testimator xgb_limitdepth's best error=0.0333,\tbest estimator lgbm's best error=0.0333\n",
            "[flaml.automl.automl: 02-07 16:15:56] {3323} INFO - iteration 193, current learner extra_tree\n",
            "[flaml.automl.automl: 02-07 16:15:56] {3508} INFO -  at 19.7s,\testimator extra_tree's best error=0.0400,\tbest estimator lgbm's best error=0.0333\n",
            "[flaml.automl.automl: 02-07 16:15:56] {3323} INFO - iteration 194, current learner xgb_limitdepth\n",
            "[flaml.automl.automl: 02-07 16:15:56] {3508} INFO -  at 19.8s,\testimator xgb_limitdepth's best error=0.0333,\tbest estimator lgbm's best error=0.0333\n",
            "[flaml.automl.automl: 02-07 16:15:56] {3323} INFO - iteration 195, current learner rf\n",
            "[flaml.automl.automl: 02-07 16:15:56] {3508} INFO -  at 19.9s,\testimator rf's best error=0.0400,\tbest estimator lgbm's best error=0.0333\n",
            "[flaml.automl.automl: 02-07 16:15:56] {3323} INFO - iteration 196, current learner lgbm\n",
            "[flaml.automl.automl: 02-07 16:15:56] {3508} INFO -  at 19.9s,\testimator lgbm's best error=0.0333,\tbest estimator lgbm's best error=0.0333\n",
            "[flaml.automl.automl: 02-07 16:15:56] {3323} INFO - iteration 197, current learner lgbm\n",
            "[flaml.automl.automl: 02-07 16:15:56] {3508} INFO -  at 20.0s,\testimator lgbm's best error=0.0333,\tbest estimator lgbm's best error=0.0333\n",
            "[flaml.automl.automl: 02-07 16:15:56] {3323} INFO - iteration 198, current learner lrl1\n"
          ]
        },
        {
          "output_type": "stream",
          "name": "stderr",
          "text": [
            "INFO:flaml.tune.searcher.blendsearch:No low-cost partial config given to the search algorithm. For cost-frugal search, consider providing low-cost values for cost-related hps via 'low_cost_partial_config'. More info can be found at https://microsoft.github.io/FLAML/docs/FAQ#about-low_cost_partial_config-in-tune\n"
          ]
        },
        {
          "output_type": "stream",
          "name": "stdout",
          "text": [
            "[flaml.automl.automl: 02-07 16:15:56] {3508} INFO -  at 20.0s,\testimator lrl1's best error=0.0667,\tbest estimator lgbm's best error=0.0333\n",
            "[flaml.automl.automl: 02-07 16:15:56] {3772} INFO - retrain lgbm for 0.0s\n",
            "[flaml.automl.automl: 02-07 16:15:56] {3779} INFO - retrained model: LGBMClassifier(learning_rate=0.41398771112970667, max_bin=31,\n",
            "               min_child_samples=9, n_estimators=4, num_leaves=4,\n",
            "               reg_alpha=0.0024255899041695415, reg_lambda=1.9151305043222606,\n",
            "               verbose=-1)\n",
            "[flaml.automl.automl: 02-07 16:15:56] {3024} INFO - fit succeeded\n",
            "[flaml.automl.automl: 02-07 16:15:56] {3025} INFO - Time taken to find the best model: 13.219608068466187\n"
          ]
        },
        {
          "output_type": "stream",
          "name": "stderr",
          "text": [
            "/usr/local/lib/python3.8/dist-packages/sklearn/linear_model/_sag.py:352: ConvergenceWarning: The max_iter was reached which means the coef_ did not converge\n",
            "  warnings.warn(\n"
          ]
        }
      ]
    },
    {
      "cell_type": "code",
      "source": [
        "print(automl.model)"
      ],
      "metadata": {
        "colab": {
          "base_uri": "https://localhost:8080/"
        },
        "id": "cLkSXfvuhhKN",
        "outputId": "e817ee24-1fb9-4b45-967e-54f7a3997f83"
      },
      "execution_count": null,
      "outputs": [
        {
          "output_type": "stream",
          "name": "stdout",
          "text": [
            "<flaml.automl.model.LGBMEstimator object at 0x7f76b1361dc0>\n"
          ]
        }
      ]
    },
    {
      "cell_type": "markdown",
      "source": [
        "Il nous renvoie un modèle de **LGMestimator** pour ce problème de de classification.\n",
        "\n",
        "Affichons le modèle avec les hyperparamètres avec le paramètre \"**estimator**\" :"
      ],
      "metadata": {
        "id": "s95w-ZPFiItB"
      }
    },
    {
      "cell_type": "code",
      "source": [
        "print(automl.model.estimator)"
      ],
      "metadata": {
        "colab": {
          "base_uri": "https://localhost:8080/"
        },
        "id": "rYxbtVTQhggd",
        "outputId": "f4a49138-cbe2-467c-fb67-e2d4a44536a5"
      },
      "execution_count": null,
      "outputs": [
        {
          "output_type": "stream",
          "name": "stdout",
          "text": [
            "LGBMClassifier(learning_rate=0.41398771112970667, max_bin=31,\n",
            "               min_child_samples=9, n_estimators=4, num_leaves=4,\n",
            "               reg_alpha=0.0024255899041695415, reg_lambda=1.9151305043222606,\n",
            "               verbose=-1)\n"
          ]
        }
      ]
    },
    {
      "cell_type": "markdown",
      "source": [
        "On peut également les afficher séparement :"
      ],
      "metadata": {
        "id": "62SnRghHihqN"
      }
    },
    {
      "cell_type": "code",
      "source": [
        "print(automl.best_estimator)"
      ],
      "metadata": {
        "colab": {
          "base_uri": "https://localhost:8080/"
        },
        "id": "Djs6d3OYhw8z",
        "outputId": "6617c18b-a4e4-476f-a20a-d2d5ca7de819"
      },
      "execution_count": null,
      "outputs": [
        {
          "output_type": "stream",
          "name": "stdout",
          "text": [
            "lgbm\n"
          ]
        }
      ]
    },
    {
      "cell_type": "code",
      "source": [
        "print(automl.best_config)"
      ],
      "metadata": {
        "colab": {
          "base_uri": "https://localhost:8080/"
        },
        "id": "dxeaxoGUis4D",
        "outputId": "345127cc-b0d7-4226-bc25-3ef1d111071f"
      },
      "execution_count": null,
      "outputs": [
        {
          "output_type": "stream",
          "name": "stdout",
          "text": [
            "{'n_estimators': 4, 'num_leaves': 4, 'min_child_samples': 9, 'learning_rate': 0.41398771112970667, 'log_max_bin': 5, 'colsample_bytree': 1.0, 'reg_alpha': 0.0024255899041695415, 'reg_lambda': 1.9151305043222606}\n"
          ]
        }
      ]
    },
    {
      "cell_type": "code",
      "source": [
        "print('La meilleur Accuracy sur les données de validation : {0:.4g}'.format(1-automl.best_loss))"
      ],
      "metadata": {
        "colab": {
          "base_uri": "https://localhost:8080/"
        },
        "id": "tqYt8WwOnFzH",
        "outputId": "5097a5f3-7e01-43e3-dc15-30d20fb27438"
      },
      "execution_count": null,
      "outputs": [
        {
          "output_type": "stream",
          "name": "stdout",
          "text": [
            "La meilleur Accuracy sur les données de validation : 0.9667\n"
          ]
        }
      ]
    },
    {
      "cell_type": "markdown",
      "source": [
        "# **5. Prédiction des données**\n",
        "\n",
        "Faisons une prédiction des données avec notre modèles d'AutoML :"
      ],
      "metadata": {
        "id": "ZuCcedHCmFa9"
      }
    },
    {
      "cell_type": "code",
      "source": [
        "print(automl.predict_proba(X_train))"
      ],
      "metadata": {
        "colab": {
          "base_uri": "https://localhost:8080/"
        },
        "id": "Skrj7c7FmAxl",
        "outputId": "fe3aa972-c937-4537-c537-fa28e91b908c"
      },
      "execution_count": null,
      "outputs": [
        {
          "output_type": "stream",
          "name": "stdout",
          "text": [
            "[[0.90813319 0.04706318 0.04480363]\n",
            " [0.86660532 0.06833783 0.06505685]\n",
            " [0.90813319 0.04706318 0.04480363]\n",
            " [0.90813319 0.04706318 0.04480363]\n",
            " [0.90813319 0.04706318 0.04480363]\n",
            " [0.90813319 0.04706318 0.04480363]\n",
            " [0.90813319 0.04706318 0.04480363]\n",
            " [0.90813319 0.04706318 0.04480363]\n",
            " [0.86660532 0.06833783 0.06505685]\n",
            " [0.90813319 0.04706318 0.04480363]\n",
            " [0.90813319 0.04706318 0.04480363]\n",
            " [0.90813319 0.04706318 0.04480363]\n",
            " [0.86660532 0.06833783 0.06505685]\n",
            " [0.86660532 0.06833783 0.06505685]\n",
            " [0.90813319 0.04706318 0.04480363]\n",
            " [0.90813319 0.04706318 0.04480363]\n",
            " [0.90813319 0.04706318 0.04480363]\n",
            " [0.90813319 0.04706318 0.04480363]\n",
            " [0.90813319 0.04706318 0.04480363]\n",
            " [0.90813319 0.04706318 0.04480363]\n",
            " [0.90813319 0.04706318 0.04480363]\n",
            " [0.90813319 0.04706318 0.04480363]\n",
            " [0.90813319 0.04706318 0.04480363]\n",
            " [0.72113841 0.21985961 0.05900198]\n",
            " [0.61145089 0.31982058 0.06872852]\n",
            " [0.86660532 0.06833783 0.06505685]\n",
            " [0.90813319 0.04706318 0.04480363]\n",
            " [0.90813319 0.04706318 0.04480363]\n",
            " [0.90813319 0.04706318 0.04480363]\n",
            " [0.90813319 0.04706318 0.04480363]\n",
            " [0.90813319 0.04706318 0.04480363]\n",
            " [0.90813319 0.04706318 0.04480363]\n",
            " [0.90813319 0.04706318 0.04480363]\n",
            " [0.90813319 0.04706318 0.04480363]\n",
            " [0.90813319 0.04706318 0.04480363]\n",
            " [0.90813319 0.04706318 0.04480363]\n",
            " [0.90813319 0.04706318 0.04480363]\n",
            " [0.90813319 0.04706318 0.04480363]\n",
            " [0.86660532 0.06833783 0.06505685]\n",
            " [0.90813319 0.04706318 0.04480363]\n",
            " [0.90813319 0.04706318 0.04480363]\n",
            " [0.85487129 0.06741252 0.07771619]\n",
            " [0.90813319 0.04706318 0.04480363]\n",
            " [0.72113841 0.21985961 0.05900198]\n",
            " [0.61145089 0.31982058 0.06872852]\n",
            " [0.86660532 0.06833783 0.06505685]\n",
            " [0.90813319 0.04706318 0.04480363]\n",
            " [0.90813319 0.04706318 0.04480363]\n",
            " [0.90813319 0.04706318 0.04480363]\n",
            " [0.90813319 0.04706318 0.04480363]\n",
            " [0.06057832 0.84943522 0.08998646]\n",
            " [0.05189024 0.88159917 0.06651059]\n",
            " [0.06715    0.62966505 0.30318494]\n",
            " [0.05198571 0.88322123 0.06479305]\n",
            " [0.05189024 0.88159917 0.06651059]\n",
            " [0.05257926 0.89330546 0.05411528]\n",
            " [0.07593402 0.78359194 0.14047404]\n",
            " [0.16595685 0.77703957 0.05700357]\n",
            " [0.05257926 0.89330546 0.05411528]\n",
            " [0.07007261 0.87681131 0.05311608]\n",
            " [0.08665265 0.85092365 0.0624237 ]\n",
            " [0.05189024 0.88159917 0.06651059]\n",
            " [0.06531087 0.8708068  0.06388233]\n",
            " [0.06057832 0.84943522 0.08998646]\n",
            " [0.05257926 0.89330546 0.05411528]\n",
            " [0.05257926 0.89330546 0.05411528]\n",
            " [0.05189024 0.88159917 0.06651059]\n",
            " [0.06604596 0.88060796 0.05334608]\n",
            " [0.05117215 0.86939907 0.07942877]\n",
            " [0.05198571 0.88322123 0.06479305]\n",
            " [0.08445982 0.30669345 0.60884673]\n",
            " [0.05257926 0.89330546 0.05411528]\n",
            " [0.06715    0.62966505 0.30318494]\n",
            " [0.06057832 0.84943522 0.08998646]\n",
            " [0.05257926 0.89330546 0.05411528]\n",
            " [0.05257926 0.89330546 0.05411528]\n",
            " [0.05601172 0.78540189 0.1585864 ]\n",
            " [0.06796173 0.14321443 0.78882384]\n",
            " [0.05189024 0.88159917 0.06651059]\n",
            " [0.06604596 0.88060796 0.05334608]\n",
            " [0.05198571 0.88322123 0.06479305]\n",
            " [0.06531087 0.8708068  0.06388233]\n",
            " [0.05257926 0.89330546 0.05411528]\n",
            " [0.0677148  0.30565125 0.62663395]\n",
            " [0.06917108 0.86553059 0.06529833]\n",
            " [0.06763568 0.84567192 0.0866924 ]\n",
            " [0.05926963 0.8310846  0.10964577]\n",
            " [0.05198571 0.88322123 0.06479305]\n",
            " [0.05257926 0.89330546 0.05411528]\n",
            " [0.05198571 0.88322123 0.06479305]\n",
            " [0.05257926 0.89330546 0.05411528]\n",
            " [0.05257926 0.89330546 0.05411528]\n",
            " [0.05257926 0.89330546 0.05411528]\n",
            " [0.16595685 0.77703957 0.05700357]\n",
            " [0.05257926 0.89330546 0.05411528]\n",
            " [0.05257926 0.89330546 0.05411528]\n",
            " [0.05257926 0.89330546 0.05411528]\n",
            " [0.05257926 0.89330546 0.05411528]\n",
            " [0.13506451 0.80582054 0.05911494]\n",
            " [0.05257926 0.89330546 0.05411528]\n",
            " [0.04728021 0.05821908 0.89450071]\n",
            " [0.04728021 0.05821908 0.89450071]\n",
            " [0.04728021 0.05821908 0.89450071]\n",
            " [0.04728021 0.05821908 0.89450071]\n",
            " [0.04728021 0.05821908 0.89450071]\n",
            " [0.04728021 0.05821908 0.89450071]\n",
            " [0.14189222 0.37947688 0.47863091]\n",
            " [0.04728021 0.05821908 0.89450071]\n",
            " [0.04728021 0.05821908 0.89450071]\n",
            " [0.04728021 0.05821908 0.89450071]\n",
            " [0.04728021 0.05821908 0.89450071]\n",
            " [0.04728021 0.05821908 0.89450071]\n",
            " [0.04728021 0.05821908 0.89450071]\n",
            " [0.06796173 0.14321443 0.78882384]\n",
            " [0.04728021 0.05821908 0.89450071]\n",
            " [0.04728021 0.05821908 0.89450071]\n",
            " [0.04728021 0.05821908 0.89450071]\n",
            " [0.04728021 0.05821908 0.89450071]\n",
            " [0.04728021 0.05821908 0.89450071]\n",
            " [0.07895224 0.47280937 0.4482384 ]\n",
            " [0.04728021 0.05821908 0.89450071]\n",
            " [0.07899536 0.19182555 0.72917909]\n",
            " [0.04728021 0.05821908 0.89450071]\n",
            " [0.07899536 0.19182555 0.72917909]\n",
            " [0.04728021 0.05821908 0.89450071]\n",
            " [0.04728021 0.05821908 0.89450071]\n",
            " [0.08445982 0.30669345 0.60884673]\n",
            " [0.07899536 0.19182555 0.72917909]\n",
            " [0.04728021 0.05821908 0.89450071]\n",
            " [0.0677148  0.30565125 0.62663395]\n",
            " [0.04728021 0.05821908 0.89450071]\n",
            " [0.04728021 0.05821908 0.89450071]\n",
            " [0.04728021 0.05821908 0.89450071]\n",
            " [0.0677148  0.30565125 0.62663395]\n",
            " [0.0677148  0.30565125 0.62663395]\n",
            " [0.04728021 0.05821908 0.89450071]\n",
            " [0.04728021 0.05821908 0.89450071]\n",
            " [0.04728021 0.05821908 0.89450071]\n",
            " [0.08445982 0.30669345 0.60884673]\n",
            " [0.04728021 0.05821908 0.89450071]\n",
            " [0.04728021 0.05821908 0.89450071]\n",
            " [0.04728021 0.05821908 0.89450071]\n",
            " [0.04728021 0.05821908 0.89450071]\n",
            " [0.04728021 0.05821908 0.89450071]\n",
            " [0.04728021 0.05821908 0.89450071]\n",
            " [0.04728021 0.05821908 0.89450071]\n",
            " [0.06796173 0.14321443 0.78882384]\n",
            " [0.04728021 0.05821908 0.89450071]\n",
            " [0.04728021 0.05821908 0.89450071]\n",
            " [0.04728021 0.05821908 0.89450071]]\n"
          ]
        }
      ]
    },
    {
      "cell_type": "markdown",
      "source": [
        "Enfin,\n",
        "\n",
        "On peut également tracer la fonction loss au fil du temps. \n",
        "\n",
        "La fonction loss quantifie l'écart entre les prévisions du modèle et les observations réelles du jeu de donnée utilisé pendant l'entraînement."
      ],
      "metadata": {
        "id": "afru4VTBk_gK"
      }
    },
    {
      "cell_type": "code",
      "source": [
        "from flaml.automl.data import get_output_from_log\n",
        "\n",
        "time_history, best_valid_loss_history, valid_loss_history, config_history, metric_history = get_output_from_log(filename=\"iris.log\", time_budget=10)"
      ],
      "metadata": {
        "id": "hIt5IA3Tglhi"
      },
      "execution_count": null,
      "outputs": []
    },
    {
      "cell_type": "code",
      "source": [
        "import matplotlib.pyplot as plt\n",
        "import numpy as np\n",
        "\n",
        "plt.title(\"Courbe d'apprentissage\")\n",
        "plt.xlabel(\"Temps (s)\")\n",
        "plt.ylabel(\"Validation Accuracy\")\n",
        "plt.step(time_history, 1 - np.array(best_valid_loss_history))\n",
        "plt.show()"
      ],
      "metadata": {
        "colab": {
          "base_uri": "https://localhost:8080/",
          "height": 295
        },
        "id": "m44pv4eTZJ-Y",
        "outputId": "124e8232-eb89-4d1e-b061-d6887ac114ea"
      },
      "execution_count": null,
      "outputs": [
        {
          "output_type": "display_data",
          "data": {
            "text/plain": [
              "<Figure size 432x288 with 1 Axes>"
            ],
            "image/png": "[encoded data removed]"
          },
          "metadata": {
            "needs_background": "light"
          }
        }
      ]
    },
    {
      "cell_type": "markdown",
      "source": [
        "**Conclusion :**    \n",
        "\n",
        "Flaml est une librairie facile à utiliser pour faire de l'AutoML. \n",
        "\n",
        "Nous avons vu qu'on pouvait facilement paramétrer notre AutoML en plaçant des conditions sur le temps de recherche du modèles et des hyperparamètres, qui dépend de la taille de notre jeu de données.\n",
        "\n",
        "Nous avons vu comment l'AutoML nous propose facilement un modèle de machine learning avec les hyperparamètres optimisée. \n",
        "\n",
        "Nous avons l'accuracy de notre modèle et vérifier cela sur les données de prédictions.\n",
        "\n",
        "Et enfin, nous avons afficher la progression d'apprentissage du modèle en fonction du temps d'apprentissage fixé dans les paramètres de l'AutoML."
      ],
      "metadata": {
        "id": "wWKBn29cnk8X"
      }
    }
  ]
}