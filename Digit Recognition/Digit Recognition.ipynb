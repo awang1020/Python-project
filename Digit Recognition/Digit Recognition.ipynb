{
 "cells": [
  {
   "cell_type": "markdown",
   "metadata": {},
   "source": [
    "# Reconnaissance de chiffres manuscrites à l'aide du Deep Learning"
   ]
  },
  {
   "cell_type": "markdown",
   "metadata": {},
   "source": [
    "## 1. Introduction\n",
    "\n",
    "### Le jeu de données MNIST\n",
    "\n",
    "Parmi les milliers de jeux de données disponibles sur le marché, MNIST est le jeu de données le plus populaire pour les amateurs d'apprentissage automatique et d'apprentissage profond. Plus de 60.000 images d'entraînement de chiffres manuscrits de zéro à neuf et plus de 10.000 images de test sont présentes dans le jeu de données MNIST. \n",
    "\n",
    "L'ensemble de données MNIST comprend donc 10 classes différentes (pour chaque chiffre, de 0 à 9). <br>\n",
    "Les images de chiffres manuscrits sont présentées sous la forme d'une matrice de 28×28 où chaque cellule est constituée d'une valeur de pixel en niveaux de gris."
   ]
  },
  {
   "cell_type": "markdown",
   "metadata": {},
   "source": [
    "## 2. Import des librairies"
   ]
  },
  {
   "cell_type": "code",
   "execution_count": 1,
   "metadata": {},
   "outputs": [
    {
     "name": "stderr",
     "output_type": "stream",
     "text": [
      "2023-01-18 17:34:30.281732: I tensorflow/core/platform/cpu_feature_guard.cc:193] This TensorFlow binary is optimized with oneAPI Deep Neural Network Library (oneDNN) to use the following CPU instructions in performance-critical operations:  SSE4.1 SSE4.2 AVX AVX2 FMA\n",
      "To enable them in other operations, rebuild TensorFlow with the appropriate compiler flags.\n"
     ]
    }
   ],
   "source": [
    "import keras\n",
    "from keras.datasets import mnist\n",
    "from keras.models import Sequential\n",
    "from keras.layers import Dense\n",
    "from keras.layers import Dropout\n",
    "from keras.layers import Flatten\n",
    "from keras.layers import Conv2D\n",
    "from keras.layers import MaxPooling2D\n",
    "from keras import backend as K\n",
    "import matplotlib.pyplot as plt"
   ]
  },
  {
   "cell_type": "markdown",
   "metadata": {},
   "source": [
    "## 3. Chargement du dataset"
   ]
  },
  {
   "cell_type": "code",
   "execution_count": 2,
   "metadata": {},
   "outputs": [],
   "source": [
    "#  to split the data of training and testing sets\n",
    "(x_train, y_train), (x_test, y_test) = mnist.load_data()"
   ]
  },
  {
   "cell_type": "markdown",
   "metadata": {},
   "source": [
    "La bibliothèque Keras contient déjà de nombreux jeux de données et MNIST est l'un d'entre eux. \n",
    "\n",
    "Nous appelons la fonction mnist.load_data() pour obtenir les données d'entraînement avec leurs étiquettes et également les données de test avec leurs étiquettes.\n",
    "\n",
    "Affichons quelques exemples : "
   ]
  },
  {
   "cell_type": "code",
   "execution_count": 3,
   "metadata": {},
   "outputs": [
    {
     "data": {
      "text/plain": [
       "<matplotlib.image.AxesImage at 0x7fe50bc74130>"
      ]
     },
     "execution_count": 3,
     "metadata": {},
     "output_type": "execute_result"
    },
    {
     "data": {
      "image/png": "[encoded data removed]",
      "text/plain": [
       "<Figure size 1080x144 with 1 Axes>"
      ]
     },
     "metadata": {
      "needs_background": "light"
     },
     "output_type": "display_data"
    }
   ],
   "source": [
    "plt.figure(figsize = (15,2))\n",
    "plt.imshow(x_train[2301])"
   ]
  },
  {
   "cell_type": "code",
   "execution_count": 4,
   "metadata": {},
   "outputs": [
    {
     "data": {
      "text/plain": [
       "<matplotlib.image.AxesImage at 0x7fe50c64a5b0>"
      ]
     },
     "execution_count": 4,
     "metadata": {},
     "output_type": "execute_result"
    },
    {
     "data": {
      "image/png": "[encoded data removed]",
      "text/plain": [
       "<Figure size 1080x144 with 1 Axes>"
      ]
     },
     "metadata": {
      "needs_background": "light"
     },
     "output_type": "display_data"
    }
   ],
   "source": [
    "plt.figure(figsize = (15,2))\n",
    "plt.imshow(x_train[25])"
   ]
  },
  {
   "cell_type": "markdown",
   "metadata": {},
   "source": [
    "## 4. Prétraitement des données"
   ]
  },
  {
   "cell_type": "markdown",
   "metadata": {},
   "source": [
    "Le modèle de deep learning ne peut prendre les données d'image en entrée directement.\n",
    "\n",
    "Nous devons effectuer quelques traitements pour rendre les données prêtes pour nos réseaux neuronnes."
   ]
  },
  {
   "cell_type": "code",
   "execution_count": 5,
   "metadata": {},
   "outputs": [
    {
     "data": {
      "text/plain": [
       "(60000, 28, 28)"
      ]
     },
     "execution_count": 5,
     "metadata": {},
     "output_type": "execute_result"
    }
   ],
   "source": [
    "x_train.shape"
   ]
  },
  {
   "cell_type": "markdown",
   "metadata": {},
   "source": [
    "La dimension des données d'entrainement est de (60000, 28, 28). \n",
    "\n",
    "Une dimension supplémentaire est nécessaire pour le modèle CNN, nous remodelons donc la matrice pour lui donner la forme (60000, 28, 28, 1)."
   ]
  },
  {
   "cell_type": "code",
   "execution_count": 6,
   "metadata": {},
   "outputs": [],
   "source": [
    "x_train = x_train.reshape(x_train.shape[0], 28, 28, 1)\n",
    "x_test = x_test.reshape(x_test.shape[0], 28, 28, 1)"
   ]
  },
  {
   "cell_type": "code",
   "execution_count": 7,
   "metadata": {},
   "outputs": [
    {
     "data": {
      "text/plain": [
       "(60000, 28, 28, 1)"
      ]
     },
     "execution_count": 7,
     "metadata": {},
     "output_type": "execute_result"
    }
   ],
   "source": [
    "x_train.shape"
   ]
  },
  {
   "cell_type": "code",
   "execution_count": 8,
   "metadata": {},
   "outputs": [],
   "source": [
    "num_classes = 10\n",
    "y_train = keras.utils.to_categorical(y_train, num_classes)\n",
    "y_test = keras.utils.to_categorical(y_test, num_classes)\n",
    "x_train = x_train.astype('float32')\n",
    "x_test = x_test.astype('float32')\n",
    "x_train /= 255\n",
    "x_test /= 255"
   ]
  },
  {
   "cell_type": "markdown",
   "metadata": {},
   "source": [
    "## 5. Création du modèle"
   ]
  },
  {
   "cell_type": "markdown",
   "metadata": {},
   "source": [
    "Il est temps de créer le modèle CNN pour ce projet de science des données basé sur Python. \n",
    "\n",
    "Une couche convolutive (convolutional layer) et des pooling layers sont les deux roues d'un modèle CNN. La raison du succès du CNN pour les problèmes de classification d'images est sa faisabilité avec des données structurées en grille. \n",
    "\n",
    "Nous utiliserons l'optimiseur Adadelta pour la compilation du modèle."
   ]
  },
  {
   "cell_type": "code",
   "execution_count": 9,
   "metadata": {},
   "outputs": [
    {
     "name": "stderr",
     "output_type": "stream",
     "text": [
      "2023-01-18 17:34:40.335521: I tensorflow/core/platform/cpu_feature_guard.cc:193] This TensorFlow binary is optimized with oneAPI Deep Neural Network Library (oneDNN) to use the following CPU instructions in performance-critical operations:  SSE4.1 SSE4.2 AVX AVX2 FMA\n",
      "To enable them in other operations, rebuild TensorFlow with the appropriate compiler flags.\n"
     ]
    }
   ],
   "source": [
    "input_shape = (28, 28, 1)\n",
    "\n",
    "model = Sequential()\n",
    "model.add(Conv2D(32, kernel_size=(3, 3),activation='relu',input_shape=input_shape))\n",
    "model.add(Conv2D(64, (3, 3), activation='relu'))\n",
    "model.add(MaxPooling2D(pool_size=(2, 2)))\n",
    "model.add(Dropout(0.25))\n",
    "model.add(Flatten())\n",
    "model.add(Dense(256, activation='relu'))\n",
    "model.add(Dropout(0.5))\n",
    "model.add(Dense(num_classes, activation='softmax'))\n",
    "model.compile(loss=keras.losses.categorical_crossentropy,optimizer=keras.optimizers.Adadelta(),metrics=['accuracy'])"
   ]
  },
  {
   "cell_type": "markdown",
   "metadata": {},
   "source": [
    "## 6. Entrainement du modèle\n",
    "\n",
    "Pour commencer l'entraînement du modèle, nous pouvons simplement appeler la fonction model.fit() de Keras. Elle prend les données d'entraînement, les données de validation, les époques et la taille du lot comme paramètres.\n",
    "\n",
    "L'entraînement du modèle prend un certain temps. Après un entraînement réussi du modèle, nous pouvons enregistrer les poids et la définition du modèle dans le fichier 'mnist.h5'."
   ]
  },
  {
   "cell_type": "code",
   "execution_count": 10,
   "metadata": {},
   "outputs": [
    {
     "name": "stdout",
     "output_type": "stream",
     "text": [
      "Epoch 1/10\n",
      "469/469 [==============================] - 116s 246ms/step - loss: 2.2754 - accuracy: 0.1665 - val_loss: 2.2397 - val_accuracy: 0.4034\n",
      "Epoch 2/10\n",
      "469/469 [==============================] - 121s 258ms/step - loss: 2.2174 - accuracy: 0.2973 - val_loss: 2.1665 - val_accuracy: 0.5492\n",
      "Epoch 3/10\n",
      "469/469 [==============================] - 123s 262ms/step - loss: 2.1387 - accuracy: 0.4111 - val_loss: 2.0645 - val_accuracy: 0.6487\n",
      "Epoch 4/10\n",
      "469/469 [==============================] - 140s 299ms/step - loss: 2.0280 - accuracy: 0.5097 - val_loss: 1.9221 - val_accuracy: 0.7097\n",
      "Epoch 5/10\n",
      "469/469 [==============================] - 124s 264ms/step - loss: 1.8765 - accuracy: 0.5809 - val_loss: 1.7293 - val_accuracy: 0.7645\n",
      "Epoch 6/10\n",
      "469/469 [==============================] - 110s 235ms/step - loss: 1.6825 - accuracy: 0.6373 - val_loss: 1.4904 - val_accuracy: 0.8017\n",
      "Epoch 7/10\n",
      "469/469 [==============================] - 104s 222ms/step - loss: 1.4607 - accuracy: 0.6765 - val_loss: 1.2372 - val_accuracy: 0.8186\n",
      "Epoch 8/10\n",
      "469/469 [==============================] - 105s 224ms/step - loss: 1.2518 - accuracy: 0.7049 - val_loss: 1.0173 - val_accuracy: 0.8294\n",
      "Epoch 9/10\n",
      "469/469 [==============================] - 111s 237ms/step - loss: 1.0859 - accuracy: 0.7214 - val_loss: 0.8530 - val_accuracy: 0.8365\n",
      "Epoch 10/10\n",
      "469/469 [==============================] - 101s 214ms/step - loss: 0.9596 - accuracy: 0.7390 - val_loss: 0.7371 - val_accuracy: 0.8447\n",
      "The model has successfully trained\n",
      "Saving the bot as my_model.h5\n"
     ]
    }
   ],
   "source": [
    "hist = model.fit(x_train, \n",
    "                 y_train,\n",
    "                 batch_size=128,\n",
    "                 epochs=10,\n",
    "                 verbose=1,\n",
    "                 validation_data=(x_test, y_test))\n",
    "\n",
    "print(\"The model has successfully trained\")\n",
    "model.save('my_model.h5')\n",
    "print(\"Saving the bot as my_model.h5\")"
   ]
  },
  {
   "cell_type": "markdown",
   "metadata": {},
   "source": [
    "## 7. Evaluation du modèle"
   ]
  },
  {
   "cell_type": "code",
   "execution_count": 12,
   "metadata": {},
   "outputs": [
    {
     "name": "stdout",
     "output_type": "stream",
     "text": [
      "Test loss: 0.7371471524238586\n",
      "Test accuracy: 0.8446999788284302\n"
     ]
    }
   ],
   "source": [
    "score = model.evaluate(x_test, y_test, verbose=0)\n",
    "print('Test loss:', score[0])\n",
    "print('Test accuracy:', score[1])"
   ]
  }
 ],
 "metadata": {
  "kernelspec": {
   "display_name": "Python 3 (ipykernel)",
   "language": "python",
   "name": "python3"
  },
  "language_info": {
   "codemirror_mode": {
    "name": "ipython",
    "version": 3
   },
   "file_extension": ".py",
   "mimetype": "text/x-python",
   "name": "python",
   "nbconvert_exporter": "python",
   "pygments_lexer": "ipython3",
   "version": "3.9.7"
  }
 },
 "nbformat": 4,
 "nbformat_minor": 4
}
