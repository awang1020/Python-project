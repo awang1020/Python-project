{
 "cells": [
  {
   "cell_type": "markdown",
   "metadata": {},
   "source": [
    "<center><h1> Classification d'images à l'aide de Convolutional Neural Network (CNN) </h1></center>\n"
   ]
  },
  {
   "cell_type": "markdown",
   "metadata": {},
   "source": [
    "# 1. Import des librairies"
   ]
  },
  {
   "cell_type": "code",
   "execution_count": 45,
   "metadata": {},
   "outputs": [],
   "source": [
    "import tensorflow as tf\n",
    "import tensorflow.keras as keras\n",
    "from matplotlib import pyplot"
   ]
  },
  {
   "cell_type": "markdown",
   "metadata": {},
   "source": [
    "<h1> 2. Chargement du dataset </h1>"
   ]
  },
  {
   "cell_type": "code",
   "execution_count": 46,
   "metadata": {},
   "outputs": [],
   "source": [
    "(x_train, y_train), (x_test, y_test) = keras.datasets.cifar10.load_data()\n",
    "        \n",
    "#print('Train: X=%s, y=%s' % (x_train.shape, y_train.shape))\n",
    "#print('Test: X=%s, y=%s' % (x_test.shape, x_test.shape))\n",
    "\n",
    "# x_train = (50000, 32, 32, 3) y_train = (50000, 1)\n",
    "# x_test = (10000, 32, 32, 3), y_test = (10000, 1)"
   ]
  },
  {
   "cell_type": "markdown",
   "metadata": {},
   "source": [
    "Pour les données d'entrainement, nous avons 50 000 images et chaque image est de 32x32 et 3 correspond au RVB."
   ]
  },
  {
   "cell_type": "code",
   "execution_count": 47,
   "metadata": {},
   "outputs": [
    {
     "data": {
      "text/plain": [
       "<matplotlib.image.AxesImage at 0x7f7aa7cef550>"
      ]
     },
     "execution_count": 47,
     "metadata": {},
     "output_type": "execute_result"
    },
    {
     "data": {
      "image/png": "[encoded data removed]",
      "text/plain": [
       "<Figure size 1080x144 with 1 Axes>"
      ]
     },
     "metadata": {
      "needs_background": "light"
     },
     "output_type": "display_data"
    }
   ],
   "source": [
    "plt.figure(figsize = (15,2))\n",
    "plt.imshow(x_train[2301])"
   ]
  },
  {
   "cell_type": "markdown",
   "metadata": {},
   "source": [
    "<h1> 3. Normalisation des données d'entrainement </h1>"
   ]
  },
  {
   "cell_type": "markdown",
   "metadata": {},
   "source": [
    "Pour normaliser une image avec 3 canaux (R, G, B) en utilisant une plage de 0 à 1.\n",
    "<br>Chaque valeur dans chaque canal doit être divisée par 255.<br>\n",
    "Cela permet de ramener chaque valeur dans chaque canal de 0 à 255 à une plage de 0 à 1"
   ]
  },
  {
   "cell_type": "code",
   "execution_count": 48,
   "metadata": {},
   "outputs": [],
   "source": [
    "x_train = x_train/255.0\n",
    "X_test = y_test/255.0"
   ]
  },
  {
   "cell_type": "markdown",
   "metadata": {},
   "source": [
    "La fonction <b>to_categorical</b> permet de convertir les données de test \"y_test\" en catégories codées en utilisant 10 classes possibles (sortie)."
   ]
  },
  {
   "cell_type": "code",
   "execution_count": 49,
   "metadata": {},
   "outputs": [],
   "source": [
    "y_train = keras.utils.to_categorical(y_train, 10)\n",
    "y_test = keras.utils.to_categorical(y_test, 10)"
   ]
  },
  {
   "cell_type": "code",
   "execution_count": null,
   "metadata": {},
   "outputs": [],
   "source": [
    "Pour le modèle"
   ]
  },
  {
   "cell_type": "code",
   "execution_count": 52,
   "metadata": {},
   "outputs": [
    {
     "name": "stdout",
     "output_type": "stream",
     "text": [
      "Epoch 1/5\n",
      "782/782 [==============================] - 97s 124ms/step - loss: 1.7344 - categorical_accuracy: 0.3775 - val_loss: 2.3834 - val_categorical_accuracy: 0.2817\n",
      "Epoch 2/5\n",
      "782/782 [==============================] - 100s 127ms/step - loss: 1.4139 - categorical_accuracy: 0.5022 - val_loss: 2.4230 - val_categorical_accuracy: 0.3026\n",
      "Epoch 3/5\n",
      "782/782 [==============================] - 100s 128ms/step - loss: 1.2693 - categorical_accuracy: 0.5533 - val_loss: 2.3624 - val_categorical_accuracy: 0.3036\n",
      "Epoch 4/5\n",
      "782/782 [==============================] - 96s 123ms/step - loss: 1.1598 - categorical_accuracy: 0.5946 - val_loss: 2.3260 - val_categorical_accuracy: 0.3231\n",
      "Epoch 5/5\n",
      "782/782 [==============================] - 98s 125ms/step - loss: 1.0793 - categorical_accuracy: 0.6229 - val_loss: 2.2894 - val_categorical_accuracy: 0.3295\n"
     ]
    },
    {
     "data": {
      "text/plain": [
       "<keras.callbacks.History at 0x7f7a7c44db80>"
      ]
     },
     "execution_count": 52,
     "metadata": {},
     "output_type": "execute_result"
    }
   ],
   "source": [
    "model = keras.models.Sequential()\n",
    "model.add(keras.layers.Conv2D(32, (3, 3), activation='tanh', kernel_initializer='he_normal', padding='same'))\n",
    "model.add(keras.layers.MaxPooling2D((2, 2)))\n",
    "model.add(keras.layers.Conv2D(64, (3, 3), activation='tanh', kernel_initializer='he_normal', padding='same'))\n",
    "model.add(keras.layers.MaxPooling2D((2, 2)))\n",
    "model.add(keras.layers.Conv2D(128, (3, 3), activation='tanh', kernel_initializer='he_normal', padding='same'))\n",
    "model.add(keras.layers.MaxPooling2D((2, 2)))\n",
    "model.add(keras.layers.Flatten())\n",
    "model.add(keras.layers.Dense(128, activation='tanh', kernel_initializer='he_normal'))\n",
    "model.add(keras.layers.Dense(10, activation='softmax'))\n",
    "\n",
    "## Définition de l'algorithme d'apprentissage (optimizer) et de la quantité à minimiser\n",
    "## (loss)\n",
    "model.compile(optimizer=keras.optimizers.SGD(),\n",
    "              loss=keras.losses.categorical_crossentropy,\n",
    "              metrics=[keras.metrics.categorical_accuracy])\n",
    "\n",
    "## Lancement de l'apprentissage\n",
    "model.fit(x_train, y_train,\n",
    "          validation_data=(x_test, y_test),\n",
    "          epochs=5,\n",
    "          batch_size=64)"
   ]
  },
  {
   "cell_type": "markdown",
   "metadata": {},
   "source": [
    "Le modèle est initialisé en tant que <b>modèle séquentiel</b>, ce qui signifie que les couches du modèle sont construites les unes après les autres de manière séquentielle."
   ]
  },
  {
   "cell_type": "markdown",
   "metadata": {},
   "source": [
    "Le modèle comprend plusieurs couches de convolution 2D (Conv2D), suivies de couches de max pooling 2D (MaxPooling2D). Ces couches sont utilisées pour extraire des caractéristiques des données d'entrée sous forme d'images."
   ]
  },
  {
   "cell_type": "markdown",
   "metadata": {},
   "source": [
    "<b>Les couches de convolution 2D</b> appliquent un filtre sur chaque sous-région de l'image d'entrée et produisent une sortie de caractéristiques (également appelée \"map de caractéristiques\"). <br><b>La couche de max pooling 2D </b>suivante réduit la dimension de chaque map de caractéristiques en prenant le maximum de chaque sous-région de la map."
   ]
  },
  {
   "cell_type": "markdown",
   "metadata": {},
   "source": [
    "Le modèle comprend également une <b>couche de \"aplatissement\" (Flatten)</b>, qui prend une entrée de plusieurs maps de caractéristiques 2D et les \"aplatit\" en une seule entrée 1D."
   ]
  },
  {
   "cell_type": "markdown",
   "metadata": {},
   "source": [
    "Enfin, le modèle comprend une couche dense cachée de 128 neurones avec une fonction d'activation tanh et une couche de sortie de 10 neurones avec une fonction d'activation softmax. La couche de sortie produit une prédiction de classe pour chaque entrée sous forme de probabilité pour chaque classe possible."
   ]
  },
  {
   "cell_type": "markdown",
   "metadata": {},
   "source": []
  }
 ],
 "metadata": {
  "kernelspec": {
   "display_name": "Python 3 (ipykernel)",
   "language": "python",
   "name": "python3"
  },
  "language_info": {
   "codemirror_mode": {
    "name": "ipython",
    "version": 3
   },
   "file_extension": ".py",
   "mimetype": "text/x-python",
   "name": "python",
   "nbconvert_exporter": "python",
   "pygments_lexer": "ipython3",
   "version": "3.9.7"
  }
 },
 "nbformat": 4,
 "nbformat_minor": 4
}
